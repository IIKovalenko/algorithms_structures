{
 "cells": [
  {
   "cell_type": "code",
   "execution_count": 64,
   "metadata": {},
   "outputs": [],
   "source": [
    "with open('ropes.in') as f:\n",
    "    data = f.read().split('\\n')\n",
    "    n = int(data[0].split(' ')[0])\n",
    "    k = int(data[0].split(' ')[1])\n",
    "    ropes = [int(rope) for rope in data[1:-1]]"
   ]
  },
  {
   "cell_type": "code",
   "execution_count": 65,
   "metadata": {},
   "outputs": [],
   "source": [
    "def count_ropes(length):\n",
    "    count = 0\n",
    "    for rope in ropes:\n",
    "        slices = rope//length\n",
    "        count += slices\n",
    "    return count"
   ]
  },
  {
   "cell_type": "code",
   "execution_count": 74,
   "metadata": {},
   "outputs": [],
   "source": [
    "def binary_search():\n",
    "    answer = None\n",
    "    L = 0\n",
    "    R = sum(ropes)//k + 1\n",
    "    while L+1 < R:\n",
    "        mid = (L+R)//2\n",
    "        if count_ropes(mid)-k >= 0:\n",
    "            L = mid\n",
    "        else:\n",
    "            R = mid\n",
    "    answer = L\n",
    "    return answer"
   ]
  },
  {
   "cell_type": "code",
   "execution_count": 75,
   "metadata": {},
   "outputs": [],
   "source": [
    "with open('ropes.out', 'w') as f:\n",
    "    f.write(str(binary_search()))"
   ]
  }
 ],
 "metadata": {
  "kernelspec": {
   "display_name": "Python 3",
   "language": "python",
   "name": "python3"
  },
  "language_info": {
   "codemirror_mode": {
    "name": "ipython",
    "version": 3
   },
   "file_extension": ".py",
   "mimetype": "text/x-python",
   "name": "python",
   "nbconvert_exporter": "python",
   "pygments_lexer": "ipython3",
   "version": "3.6.2"
  }
 },
 "nbformat": 4,
 "nbformat_minor": 2
}

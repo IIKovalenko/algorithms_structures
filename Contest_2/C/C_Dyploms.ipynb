{
 "cells": [
  {
   "cell_type": "code",
   "execution_count": 271,
   "metadata": {
    "collapsed": true
   },
   "outputs": [],
   "source": [
    "from math import sqrt, floor"
   ]
  },
  {
   "cell_type": "code",
   "execution_count": 272,
   "metadata": {
    "collapsed": true
   },
   "outputs": [],
   "source": [
    "with open('diplomas.in') as f:\n",
    "    data = f.read().split(' ')\n",
    "    w = int(data[0])\n",
    "    h = int(data[1])\n",
    "    n = int(data[2])"
   ]
  },
  {
   "cell_type": "code",
   "execution_count": 273,
   "metadata": {
    "collapsed": true
   },
   "outputs": [],
   "source": [
    "def dyploms_left(a):\n",
    "    ans = (a//h)*(a//w) - n\n",
    "    return ans"
   ]
  },
  {
   "cell_type": "code",
   "execution_count": 274,
   "metadata": {
    "collapsed": true
   },
   "outputs": [],
   "source": [
    "#(a//h)*(a//w) - столько дипломов вмещает квадрат со стороной а"
   ]
  },
  {
   "cell_type": "code",
   "execution_count": 275,
   "metadata": {
    "collapsed": true
   },
   "outputs": [],
   "source": [
    "def binsearch():\n",
    "    answer = None\n",
    "    L = floor(sqrt(n*w*h))\n",
    "    R = max(w, h)*n\n",
    "    #from IPython.core.debugger import Tracer\n",
    "    #Tracer()()\n",
    "    while L+1 < R:\n",
    "        mid = (L+R)//2\n",
    "        if dyploms_left(mid)<0:\n",
    "            L = mid\n",
    "        else:\n",
    "            R = mid\n",
    "    answer = R\n",
    "    return answer"
   ]
  },
  {
   "cell_type": "code",
   "execution_count": 276,
   "metadata": {},
   "outputs": [],
   "source": [
    "with open('diplomas.out', 'w') as f:\n",
    "    f.write(str(binsearch()))"
   ]
  }
 ],
 "metadata": {
  "kernelspec": {
   "display_name": "Python 3",
   "language": "python",
   "name": "python3"
  },
  "language_info": {
   "codemirror_mode": {
    "name": "ipython",
    "version": 3
   },
   "file_extension": ".py",
   "mimetype": "text/x-python",
   "name": "python",
   "nbconvert_exporter": "python",
   "pygments_lexer": "ipython3",
   "version": "3.6.2"
  }
 },
 "nbformat": 4,
 "nbformat_minor": 2
}

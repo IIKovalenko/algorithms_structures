{
 "cells": [
  {
   "cell_type": "code",
   "execution_count": 22,
   "metadata": {},
   "outputs": [],
   "source": [
    "with open('inverse.in') as f:\n",
    "    data = f.read().split('\\n')\n",
    "    n = int(data[0])\n",
    "    array = [int(x) for x in data[1].split(' ')]"
   ]
  },
  {
   "cell_type": "code",
   "execution_count": 23,
   "metadata": {
    "collapsed": true
   },
   "outputs": [],
   "source": [
    "inverse_counter = 0"
   ]
  },
  {
   "cell_type": "code",
   "execution_count": 27,
   "metadata": {
    "collapsed": true
   },
   "outputs": [],
   "source": [
    "def merge(left, right):\n",
    "    merge_arr = []\n",
    "    global inverse_counter\n",
    "    i = 0\n",
    "    j = 0\n",
    "    while i<len(left) and j<len(right):\n",
    "        if left[i]<right[j]:\n",
    "            merge_arr.append(left[i])\n",
    "            i += 1\n",
    "        else:\n",
    "            merge_arr.append(right[j])\n",
    "            j += 1\n",
    "            inverse_counter += len(left) - i\n",
    "    merge_arr = merge_arr + left[i:] + right[j:]\n",
    "    return merge_arr"
   ]
  },
  {
   "cell_type": "code",
   "execution_count": 28,
   "metadata": {
    "collapsed": true
   },
   "outputs": [],
   "source": [
    "def merge_sort(array):\n",
    "    if len(array) > 1:\n",
    "        idx = len(array)//2\n",
    "        arr_left = array[:idx]\n",
    "        arr_right = array[idx:]\n",
    "        a = merge_sort(arr_left)\n",
    "        b = merge_sort(arr_right)\n",
    "        return merge(a, b)\n",
    "    else:\n",
    "        return array"
   ]
  },
  {
   "cell_type": "code",
   "execution_count": 29,
   "metadata": {},
   "outputs": [
    {
     "data": {
      "text/plain": [
       "[999950, 999954, 999961, 999969, 999972, 999982, 999989, 999994]"
      ]
     },
     "execution_count": 29,
     "metadata": {},
     "output_type": "execute_result"
    }
   ],
   "source": [
    "merge_sort(array)"
   ]
  },
  {
   "cell_type": "code",
   "execution_count": 30,
   "metadata": {
    "collapsed": true
   },
   "outputs": [],
   "source": [
    "with open('inverse.out', 'w') as f:\n",
    "    f.write(str(inverse_counter))"
   ]
  }
 ],
 "metadata": {
  "kernelspec": {
   "display_name": "Python 3",
   "language": "python",
   "name": "python3"
  },
  "language_info": {
   "codemirror_mode": {
    "name": "ipython",
    "version": 3
   },
   "file_extension": ".py",
   "mimetype": "text/x-python",
   "name": "python",
   "nbconvert_exporter": "python",
   "pygments_lexer": "ipython3",
   "version": "3.6.2"
  }
 },
 "nbformat": 4,
 "nbformat_minor": 2
}

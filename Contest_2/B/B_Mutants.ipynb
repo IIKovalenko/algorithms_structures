{
 "cells": [
  {
   "cell_type": "code",
   "execution_count": 5,
   "metadata": {
    "collapsed": true
   },
   "outputs": [],
   "source": [
    "with open('mutants.in') as f:\n",
    "    data = f.read().split('\\n')\n",
    "    N = int(data[0])\n",
    "    if N is 0:\n",
    "        mutants = []\n",
    "    else:\n",
    "        mutants = [int(x) for x in data[1].split(' ')]\n",
    "    t = int(data[2])\n",
    "    colors = [int(x) for x in data[3].split(' ')]"
   ]
  },
  {
   "cell_type": "code",
   "execution_count": 6,
   "metadata": {
    "collapsed": true
   },
   "outputs": [],
   "source": [
    "def binsearch_first(array, element):\n",
    "    answer = None\n",
    "    L = -1\n",
    "    R = len(array) - 1\n",
    "    while L+1 < R:\n",
    "        mid = (L+R)//2\n",
    "        if array[mid] < element:\n",
    "            L = mid\n",
    "        else:\n",
    "            R = mid\n",
    "    if (array != []) and (element == array[R]):\n",
    "        answer = R\n",
    "    return answer"
   ]
  },
  {
   "cell_type": "code",
   "execution_count": 7,
   "metadata": {
    "collapsed": true
   },
   "outputs": [],
   "source": [
    "def binsearch_last(array, element):\n",
    "    answer = None\n",
    "    L = 0\n",
    "    R = len(array)\n",
    "    while L+1 < R:\n",
    "        mid = (L+R)//2\n",
    "        if array[mid] > element:\n",
    "            R = mid\n",
    "        else:\n",
    "            L = mid\n",
    "    if (array != []) and (element == array[L]):\n",
    "        answer = L\n",
    "    return answer"
   ]
  },
  {
   "cell_type": "code",
   "execution_count": 8,
   "metadata": {},
   "outputs": [],
   "source": [
    "with open('mutants.out', 'w') as F:\n",
    "    for color in colors:\n",
    "        last = binsearch_last(mutants, color)\n",
    "        first = binsearch_first(mutants, color)\n",
    "        if (last or first) is None:\n",
    "            F.write('0\\n')\n",
    "        else:\n",
    "            F.write(str((last+1) - first) + '\\n')"
   ]
  }
 ],
 "metadata": {
  "kernelspec": {
   "display_name": "Python 3",
   "language": "python",
   "name": "python3"
  },
  "language_info": {
   "codemirror_mode": {
    "name": "ipython",
    "version": 3
   },
   "file_extension": ".py",
   "mimetype": "text/x-python",
   "name": "python",
   "nbconvert_exporter": "python",
   "pygments_lexer": "ipython3",
   "version": "3.6.2"
  }
 },
 "nbformat": 4,
 "nbformat_minor": 2
}

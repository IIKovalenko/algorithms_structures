{
 "cells": [
  {
   "cell_type": "code",
   "execution_count": 99,
   "metadata": {
    "collapsed": true
   },
   "outputs": [],
   "source": [
    "with open('ice-cream.in') as f:\n",
    "    data = f.read().split('\\n')\n",
    "    data[0] = data[0].split(' ')\n",
    "    n = int(data[0][0])\n",
    "    k = int(data[0][1])\n",
    "    coordinates = [int(x) for x in data[1].split(' ')]"
   ]
  },
  {
   "cell_type": "code",
   "execution_count": 100,
   "metadata": {},
   "outputs": [],
   "source": [
    "def can_be_placed(coordinates, mid):\n",
    "    counter = 1\n",
    "    pointer = 0\n",
    "    for idx, coordinate in enumerate(coordinates):\n",
    "        distance = coordinate - coordinates[pointer]\n",
    "        if distance >= mid:\n",
    "            pointer = idx\n",
    "            counter += 1\n",
    "    return counter >= k"
   ]
  },
  {
   "cell_type": "code",
   "execution_count": 101,
   "metadata": {
    "collapsed": true
   },
   "outputs": [],
   "source": [
    "def binary_search(arr):\n",
    "    answer = None\n",
    "    L = 0\n",
    "    R = arr[-1] - arr[0] + 1\n",
    "    while L+1<R:\n",
    "        mid = (L+R)//2\n",
    "        if can_be_placed(arr, mid):\n",
    "            L = mid\n",
    "        else:\n",
    "            R = mid\n",
    "    answer = L\n",
    "    return answer"
   ]
  },
  {
   "cell_type": "code",
   "execution_count": 102,
   "metadata": {
    "collapsed": true
   },
   "outputs": [],
   "source": [
    "with open('ice-cream.out', 'w') as F:\n",
    "    F.write(str(binary_search(coordinates)))"
   ]
  }
 ],
 "metadata": {
  "kernelspec": {
   "display_name": "Python 3",
   "language": "python",
   "name": "python3"
  },
  "language_info": {
   "codemirror_mode": {
    "name": "ipython",
    "version": 3
   },
   "file_extension": ".py",
   "mimetype": "text/x-python",
   "name": "python",
   "nbconvert_exporter": "python",
   "pygments_lexer": "ipython3",
   "version": "3.6.2"
  }
 },
 "nbformat": 4,
 "nbformat_minor": 2
}

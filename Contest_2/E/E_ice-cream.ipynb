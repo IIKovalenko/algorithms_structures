{
 "cells": [
  {
   "cell_type": "code",
   "execution_count": 6,
   "metadata": {},
   "outputs": [],
   "source": [
    "with open('ice-cream.in') as f:\n",
    "    data = f.read().split('\\n')\n",
    "    data[0] = data[0].split(' ')\n",
    "    n = int(data[0][0])\n",
    "    k = int(data[0][1])\n",
    "    coordinates = [int(x) for x in data[1].split(' ')]"
   ]
  },
  {
   "cell_type": "code",
   "execution_count": null,
   "metadata": {
    "collapsed": true
   },
   "outputs": [],
   "source": [
    "def can_be_placed(coordinates, mid):\n",
    "    counter = 1\n",
    "    pointer = coordinates[0]\n",
    "    distances = [coordinates[i] - coordinates[0] for i in range(1, n)]\n",
    "    for coordinate, distance in zip(coordinates[1:], distances):\n",
    "        if distance < mid:\n",
    "            pointer = coordinate\n",
    "        else:\n",
    "            counter += 1"
   ]
  },
  {
   "cell_type": "code",
   "execution_count": 14,
   "metadata": {
    "collapsed": true
   },
   "outputs": [],
   "source": [
    "distances = [coordinates[i] - coordinates[0] for i in range(1, n)]"
   ]
  },
  {
   "cell_type": "code",
   "execution_count": null,
   "metadata": {
    "collapsed": true
   },
   "outputs": [],
   "source": []
  }
 ],
 "metadata": {
  "kernelspec": {
   "display_name": "Python 3",
   "language": "python",
   "name": "python3"
  },
  "language_info": {
   "codemirror_mode": {
    "name": "ipython",
    "version": 3
   },
   "file_extension": ".py",
   "mimetype": "text/x-python",
   "name": "python",
   "nbconvert_exporter": "python",
   "pygments_lexer": "ipython3",
   "version": "3.6.2"
  }
 },
 "nbformat": 4,
 "nbformat_minor": 2
}

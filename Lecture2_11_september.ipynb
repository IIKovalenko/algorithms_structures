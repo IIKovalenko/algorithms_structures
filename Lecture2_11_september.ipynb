{
 "cells": [
  {
   "cell_type": "markdown",
   "metadata": {
    "collapsed": true
   },
   "source": [
    "### Бинарный поиск."
   ]
  },
  {
   "cell_type": "code",
   "execution_count": 17,
   "metadata": {
    "collapsed": true
   },
   "outputs": [],
   "source": [
    "def binary_search(array, element):\n",
    "    answer = None\n",
    "    L = -1\n",
    "    R = len(array)-1\n",
    "    while L+1 < R:\n",
    "        mid = (L+R)/2\n",
    "        if array[mid]<element:\n",
    "            L = mid\n",
    "        else:\n",
    "            R = mid\n",
    "    if (array != []) and (element == array[R]):\n",
    "            answer = R\n",
    "    return answer"
   ]
  },
  {
   "cell_type": "code",
   "execution_count": null,
   "metadata": {
    "collapsed": true
   },
   "outputs": [],
   "source": []
  }
 ],
 "metadata": {
  "kernelspec": {
   "display_name": "Python 2",
   "language": "python",
   "name": "python2"
  },
  "language_info": {
   "codemirror_mode": {
    "name": "ipython",
    "version": 2
   },
   "file_extension": ".py",
   "mimetype": "text/x-python",
   "name": "python",
   "nbconvert_exporter": "python",
   "pygments_lexer": "ipython2",
   "version": "2.7.13"
  }
 },
 "nbformat": 4,
 "nbformat_minor": 2
}

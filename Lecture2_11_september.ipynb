{
 "cells": [
  {
   "cell_type": "markdown",
   "metadata": {
    "collapsed": true
   },
   "source": [
    "### Бинарный поиск."
   ]
  },
  {
   "cell_type": "code",
   "execution_count": 17,
   "metadata": {
    "collapsed": true
   },
   "outputs": [],
   "source": [
    "def binary_search(array, element):\n",
    "    answer = None\n",
    "    L = -1\n",
    "    R = len(array)-1\n",
    "    while L+1 < R:\n",
    "        mid = (L+R)/2\n",
    "        if array[mid]<element:\n",
    "            L = mid\n",
    "        else:\n",
    "            R = mid\n",
    "    if (array != []) and (element == array[R]):\n",
    "            answer = R\n",
    "    return answer"
   ]
  },
  {
   "cell_type": "markdown",
   "metadata": {
    "collapsed": true
   },
   "source": [
    "### Бинарный поиск по ответу."
   ]
  },
  {
   "cell_type": "markdown",
   "metadata": {},
   "source": [
    "###### Пусть у нас есть функция, равномерная на отрезке. И нам нужно узнать при каком значении аргумента будет достигнуто  требуемое нам значение функции. Тогда мы можем положить начало отрезка за L, а конец отрезка за R. И использовать бинарный поиск F(x)."
   ]
  },
  {
   "cell_type": "code",
   "execution_count": 7,
   "metadata": {
    "collapsed": true
   },
   "outputs": [],
   "source": [
    "from math import sin\n",
    "def F(x):\n",
    "    '''наша функция'''\n",
    "    return sin(x) + x"
   ]
  },
  {
   "cell_type": "code",
   "execution_count": 13,
   "metadata": {},
   "outputs": [
    {
     "data": {
      "text/plain": [
       "[<matplotlib.lines.Line2D at 0x241f17c60b8>]"
      ]
     },
     "execution_count": 13,
     "metadata": {},
     "output_type": "execute_result"
    },
    {
     "data": {
      "image/png": "[encoded data removed]",
      "text/plain": [
       "<matplotlib.figure.Figure at 0x241f1a23780>"
      ]
     },
     "metadata": {},
     "output_type": "display_data"
    }
   ],
   "source": [
    "import matplotlib.pyplot as plt\n",
    "%matplotlib inline\n",
    "X = range(100)\n",
    "fig = plt.figure()\n",
    "plt.plot(X, [f for f in map(F, X)])"
   ]
  },
  {
   "cell_type": "code",
   "execution_count": 46,
   "metadata": {},
   "outputs": [],
   "source": [
    "def binary_answer_search(F, f, e):\n",
    "    '''e в данном случае является точностью приближения для непрерывной функции'''\n",
    "    answer = None\n",
    "    L = -1\n",
    "    R = 99\n",
    "    while L+e < R:\n",
    "        mid = (L+R)/2\n",
    "        if F(mid)<f:\n",
    "            L = mid\n",
    "        else:\n",
    "            R = mid\n",
    "    answer = R\n",
    "    return answer"
   ]
  },
  {
   "cell_type": "code",
   "execution_count": 43,
   "metadata": {
    "collapsed": true
   },
   "outputs": [],
   "source": [
    "def binary_answer_search2(F, f, n_iter):\n",
    "    '''вместо цикла while и эпсилон окрестности можно использовать цикл for \n",
    "       и указывать количество итераций, это будет даже точнее'''\n",
    "    answer = None\n",
    "    L = -1\n",
    "    R = 99\n",
    "    for i in range(n_iter):\n",
    "        mid = (L+R)/2\n",
    "        if F(mid)<f:\n",
    "            L = mid\n",
    "        else:\n",
    "            R = mid\n",
    "    answer = R\n",
    "    return answer"
   ]
  },
  {
   "cell_type": "code",
   "execution_count": 48,
   "metadata": {},
   "outputs": [
    {
     "data": {
      "text/plain": [
       "97.00005456003076"
      ]
     },
     "execution_count": 48,
     "metadata": {},
     "output_type": "execute_result"
    }
   ],
   "source": [
    "F(binary_answer_search(F, 97, 0.0001))"
   ]
  },
  {
   "cell_type": "code",
   "execution_count": 50,
   "metadata": {},
   "outputs": [
    {
     "data": {
      "text/plain": [
       "97.0"
      ]
     },
     "execution_count": 50,
     "metadata": {},
     "output_type": "execute_result"
    }
   ],
   "source": [
    "F(binary_answer_search2(F, 97, 100))"
   ]
  },
  {
   "cell_type": "markdown",
   "metadata": {},
   "source": [
    "### Сортировка слиянием."
   ]
  },
  {
   "cell_type": "code",
   "execution_count": null,
   "metadata": {
    "collapsed": true
   },
   "outputs": [],
   "source": []
  }
 ],
 "metadata": {
  "kernelspec": {
   "display_name": "Python 3",
   "language": "python",
   "name": "python3"
  },
  "language_info": {
   "codemirror_mode": {
    "name": "ipython",
    "version": 3
   },
   "file_extension": ".py",
   "mimetype": "text/x-python",
   "name": "python",
   "nbconvert_exporter": "python",
   "pygments_lexer": "ipython3",
   "version": "3.6.2"
  }
 },
 "nbformat": 4,
 "nbformat_minor": 2
}

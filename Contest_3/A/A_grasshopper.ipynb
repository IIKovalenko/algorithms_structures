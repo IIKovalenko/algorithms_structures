{
 "cells": [
  {
   "cell_type": "code",
   "execution_count": 5,
   "metadata": {},
   "outputs": [],
   "source": [
    "with open('grasshopper.in') as f:\n",
    "    data = f.read()\n",
    "    n, k = [int(x) for x in data.split(' ')]"
   ]
  },
  {
   "cell_type": "code",
   "execution_count": 232,
   "metadata": {},
   "outputs": [],
   "source": [
    "def grasshopper(n, k):\n",
    "    arr = [0]*(n+1)\n",
    "    arr[0] = 1\n",
    "    arr[1] = 1\n",
    "    depth = 1\n",
    "    if n>1:\n",
    "        for i in range(2, min(k+1, len(arr))):\n",
    "            arr[i] = 1 + sum(arr[i-depth:i])\n",
    "            depth +=1\n",
    "    if k<n:\n",
    "        for i in range(k+1, n+1):\n",
    "            arr[i] = sum(arr[i-depth:])\n",
    "    return arr[n-1]"
   ]
  },
  {
   "cell_type": "code",
   "execution_count": 235,
   "metadata": {},
   "outputs": [],
   "source": [
    "with open('grasshopper.out', 'w') as f:\n",
    "    f.write(str(grasshopper(n, k)))"
   ]
  }
 ],
 "metadata": {
  "kernelspec": {
   "display_name": "Python 3",
   "language": "python",
   "name": "python3"
  },
  "language_info": {
   "codemirror_mode": {
    "name": "ipython",
    "version": 3
   },
   "file_extension": ".py",
   "mimetype": "text/x-python",
   "name": "python",
   "nbconvert_exporter": "python",
   "pygments_lexer": "ipython3",
   "version": "3.6.2"
  }
 },
 "nbformat": 4,
 "nbformat_minor": 2
}

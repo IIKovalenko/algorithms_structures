{
 "cells": [
  {
   "cell_type": "code",
   "execution_count": 1,
   "metadata": {
    "collapsed": true
   },
   "outputs": [],
   "source": [
    "with open('input') as f:\n",
    "    n = int(f.read())"
   ]
  },
  {
   "cell_type": "code",
   "execution_count": 11,
   "metadata": {
    "collapsed": true
   },
   "outputs": [],
   "source": [
    "def count(n):\n",
    "    arr = [0]*n\n",
    "    if n is 1:\n",
    "        return 2\n",
    "    if n is 2:\n",
    "        return 4\n",
    "    arr[0] = 2\n",
    "    arr[1] = 4\n",
    "    arr[2] = 7\n",
    "    for i in range(3, n):\n",
    "        arr[i] = arr[i-1] + arr[i-2] + arr[i-3]\n",
    "    return arr[-1]"
   ]
  },
  {
   "cell_type": "code",
   "execution_count": 7,
   "metadata": {},
   "outputs": [],
   "source": [
    "with open('output', 'w') as f:\n",
    "    f.write(str(count(n)))"
   ]
  }
 ],
 "metadata": {
  "kernelspec": {
   "display_name": "Python 3",
   "language": "python",
   "name": "python3"
  },
  "language_info": {
   "codemirror_mode": {
    "name": "ipython",
    "version": 3
   },
   "file_extension": ".py",
   "mimetype": "text/x-python",
   "name": "python",
   "nbconvert_exporter": "python",
   "pygments_lexer": "ipython3",
   "version": "3.6.2"
  }
 },
 "nbformat": 4,
 "nbformat_minor": 2
}

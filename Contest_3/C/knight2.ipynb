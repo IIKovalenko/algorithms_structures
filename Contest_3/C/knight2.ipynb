{
 "cells": [
  {
   "cell_type": "code",
   "execution_count": 33,
   "metadata": {
    "collapsed": true
   },
   "outputs": [],
   "source": [
    "with open('knight2.in') as f:\n",
    "    data = f.read()\n",
    "    n, m = [int(x) for x in data.split(' ')]"
   ]
  },
  {
   "cell_type": "code",
   "execution_count": 197,
   "metadata": {
    "collapsed": true
   },
   "outputs": [],
   "source": [
    "def count_ways(n, m):\n",
    "    arr = [[0]*(m+3) for x in range(n+3)]\n",
    "    for i in range(2, n+2):\n",
    "        for j in range(2, m+2):\n",
    "            arr[i][j] = -1\n",
    "    arr[2][2] = 1\n",
    "    #реализуем динамический обход по диагонали\n",
    "    \n",
    "    \n",
    "    return arr"
   ]
  },
  {
   "cell_type": "code",
   "execution_count": 342,
   "metadata": {},
   "outputs": [],
   "source": [
    "##реализация обхода по диагонали\n",
    "def diagonal(arr):\n",
    "    a, b = (len(arr), len(arr[0]))\n",
    "    for k in range(2, a-1):\n",
    "        if k is 2:\n",
    "            arr[k][2] = 1\n",
    "        else:\n",
    "            arr[k][2] = arr[k-2][2+1] + arr[k-2][2-1] + arr[k-1][2-2] + arr[k+1][2-2]\n",
    "        i = k-1\n",
    "        j = 3\n",
    "        while (is_valid(i-2, j-2, arr) and is_valid(i+1, j+1, arr)):\n",
    "            print(arr[i][j])\n",
    "            arr[i][j] = arr[i-2][j+1] + arr[i-2][j-1] + arr[i-1][j-2] + arr[i+1][j-2]\n",
    "            i -= 1\n",
    "            j += 1\n",
    "    for k in range(3, b-1):\n",
    "        print(arr[a-2][k])\n",
    "        arr[i][j] = arr[a-2-2][k+1] + arr[a-2-2][k-1] + arr[a-2-1][k-2] + arr[a-2+1][k-2]\n",
    "        i = a-2\n",
    "        j = k+1\n",
    "        while is_valid(i-2, j-2, arr) and is_valid(i+1, j+1, arr):\n",
    "            print(arr[i][j])\n",
    "            arr[i][j] = arr[i-2][j+1] + arr[i-2][j-1] + arr[i-1][j-2] + arr[i+1][j-2]\n",
    "            i -= 1\n",
    "            j += 1"
   ]
  },
  {
   "cell_type": "code",
   "execution_count": 343,
   "metadata": {
    "collapsed": true
   },
   "outputs": [],
   "source": [
    "def is_valid(i, j, array):\n",
    "    a, b = (len(array), len(array[0]))\n",
    "    if (i<0 or i>=a or j>=b or j<0):\n",
    "        return False\n",
    "    return True"
   ]
  },
  {
   "cell_type": "code",
   "execution_count": 347,
   "metadata": {},
   "outputs": [
    {
     "name": "stdout",
     "output_type": "stream",
     "text": [
      "-1\n",
      "-1\n",
      "-1\n",
      "-1\n",
      "-1\n",
      "-1\n",
      "-1\n",
      "-1\n",
      "-1\n",
      "-1\n",
      "-1\n",
      "1\n"
     ]
    }
   ],
   "source": [
    "diagonal(arr)"
   ]
  },
  {
   "cell_type": "code",
   "execution_count": 348,
   "metadata": {},
   "outputs": [
    {
     "data": {
      "text/plain": [
       "[[0, 0, 0, 0, 0, 0, 0],\n",
       " [0, 0, 0, 0, 0, 0, 1],\n",
       " [0, 0, 1, 0, 0, 0, 0],\n",
       " [0, 0, 0, 0, 1, -1, -1],\n",
       " [0, 0, 0, 1, -1, -1, 1],\n",
       " [0, 0, 0, -1, -1, 1, 0],\n",
       " [0, 0, 0, 0, 0, 0, 0]]"
      ]
     },
     "execution_count": 348,
     "metadata": {},
     "output_type": "execute_result"
    }
   ],
   "source": [
    "arr"
   ]
  },
  {
   "cell_type": "code",
   "execution_count": 352,
   "metadata": {},
   "outputs": [],
   "source": [
    "arr = count_ways(4, 4)"
   ]
  },
  {
   "cell_type": "code",
   "execution_count": null,
   "metadata": {
    "collapsed": true
   },
   "outputs": [],
   "source": [
    "arr[i][j] = arr[i-2][j+1] + arr[i-2][j-1] + arr[i-1][j-2] + arr[i+1][j-2]"
   ]
  },
  {
   "cell_type": "code",
   "execution_count": 349,
   "metadata": {
    "collapsed": true
   },
   "outputs": [],
   "source": [
    "#пробуем через try-except"
   ]
  },
  {
   "cell_type": "code",
   "execution_count": 363,
   "metadata": {
    "collapsed": true
   },
   "outputs": [],
   "source": [
    "def count_ways2(n, m):\n",
    "    arr = [[0]*m for x in range(n)]\n",
    "    for i in range(n):\n",
    "        for j in range(m):\n",
    "            arr[i][j] = 0\n",
    "    arr[0][0] = 1\n",
    "    #реализуем динамический обход по диагонали\n",
    "    \n",
    "    \n",
    "    return arr"
   ]
  },
  {
   "cell_type": "code",
   "execution_count": 499,
   "metadata": {
    "collapsed": true
   },
   "outputs": [],
   "source": [
    "def diagonal2(arr):\n",
    "    a, b = (len(arr), len(arr[0]))\n",
    "    for k in range(a):\n",
    "        print(arr[k][0])\n",
    "        i = k-1\n",
    "        j = 1\n",
    "        while is_valid(i, j, arr):\n",
    "            sum_ways(i, j, arr)\n",
    "            print(arr[i][j])\n",
    "            i -= 1\n",
    "            j += 1\n",
    "    for k in range(b):\n",
    "        #print(arr[a-2][k])\n",
    "        #sum_ways(a-2, k, arr)\n",
    "        i = a-2\n",
    "        j = k+1\n",
    "        while is_valid(i, j, arr):\n",
    "            print(arr[i][j])\n",
    "            sum_ways(i, j, arr)\n",
    "            i -= 1\n",
    "            j += 1"
   ]
  },
  {
   "cell_type": "code",
   "execution_count": 500,
   "metadata": {
    "collapsed": true
   },
   "outputs": [],
   "source": [
    "def sum_ways(i, j, arr):\n",
    "    try:\n",
    "        arr[i][j] += arr[i-2][j+1]\n",
    "        arr[i][j] += arr[i-2][j-1]\n",
    "        arr[i][j] += arr[i-1][j-2]\n",
    "        arr[i][j] += arr[i+1][j-2]\n",
    "    except IndexError:\n",
    "        pass"
   ]
  },
  {
   "cell_type": "code",
   "execution_count": 501,
   "metadata": {},
   "outputs": [],
   "source": [
    "arr2 = count_ways2(4, 4)"
   ]
  },
  {
   "cell_type": "code",
   "execution_count": 502,
   "metadata": {},
   "outputs": [
    {
     "name": "stdout",
     "output_type": "stream",
     "text": [
      "1\n",
      "0\n",
      "0\n",
      "0\n",
      "0\n",
      "0\n",
      "0\n",
      "1\n",
      "1\n",
      "0\n",
      "1\n",
      "1\n",
      "0\n",
      "0\n",
      "0\n",
      "0\n"
     ]
    }
   ],
   "source": [
    "diagonal2(arr2)"
   ]
  },
  {
   "cell_type": "code",
   "execution_count": 486,
   "metadata": {
    "collapsed": true
   },
   "outputs": [],
   "source": [
    "sum_ways(2, 1, arr2)"
   ]
  },
  {
   "cell_type": "code",
   "execution_count": 487,
   "metadata": {},
   "outputs": [
    {
     "data": {
      "text/plain": [
       "[[1, 0, 0, 0], [0, 0, 0, 0], [0, 1, 0, 0], [0, 0, 0, 0]]"
      ]
     },
     "execution_count": 487,
     "metadata": {},
     "output_type": "execute_result"
    }
   ],
   "source": [
    "arr2"
   ]
  },
  {
   "cell_type": "code",
   "execution_count": null,
   "metadata": {
    "collapsed": true
   },
   "outputs": [],
   "source": []
  }
 ],
 "metadata": {
  "kernelspec": {
   "display_name": "Python 3",
   "language": "python",
   "name": "python3"
  },
  "language_info": {
   "codemirror_mode": {
    "name": "ipython",
    "version": 3
   },
   "file_extension": ".py",
   "mimetype": "text/x-python",
   "name": "python",
   "nbconvert_exporter": "python",
   "pygments_lexer": "ipython3",
   "version": "3.6.2"
  }
 },
 "nbformat": 4,
 "nbformat_minor": 2
}

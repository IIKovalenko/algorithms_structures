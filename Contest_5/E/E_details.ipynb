{
 "cells": [
  {
   "cell_type": "code",
   "execution_count": 8,
   "metadata": {
    "collapsed": true
   },
   "outputs": [],
   "source": [
    "class Deque:\n",
    "    def __init__(self):\n",
    "        self.a = []\n",
    "    \n",
    "    def is_empty(self):\n",
    "        return self.a == []\n",
    "    \n",
    "    def size(self):\n",
    "        return len(self.a)\n",
    "    \n",
    "    def push_last(self, element):\n",
    "        self.a.append(element)\n",
    "    \n",
    "    def pop_last(self):\n",
    "        return(self.a.pop())\n",
    "    \n",
    "    def push_first(self, element):\n",
    "        self.a.insert(0, element)\n",
    "        \n",
    "    def pop_first(self):\n",
    "        return(self.a.pop(0))\n",
    "    \n",
    "    def __call__(self):\n",
    "        return(self.a)"
   ]
  },
  {
   "cell_type": "code",
   "execution_count": 9,
   "metadata": {
    "collapsed": true
   },
   "outputs": [],
   "source": [
    "with open('details.in') as f:\n",
    "    data = f.read().split('\\n')[:-1]\n",
    "    times = [int(t) for t in data[0].split(' ')]\n",
    "    details = []\n",
    "    for s in data[1:]:\n",
    "        details.append([int(det) for det in s.split(' ') if det is not ''])"
   ]
  },
  {
   "cell_type": "code",
   "execution_count": 4,
   "metadata": {},
   "outputs": [
    {
     "data": {
      "text/plain": [
       "[100, 200, 300]"
      ]
     },
     "execution_count": 4,
     "metadata": {},
     "output_type": "execute_result"
    }
   ],
   "source": [
    "times"
   ]
  },
  {
   "cell_type": "code",
   "execution_count": 5,
   "metadata": {},
   "outputs": [
    {
     "data": {
      "text/plain": [
       "[[2], [], [2, 1]]"
      ]
     },
     "execution_count": 5,
     "metadata": {},
     "output_type": "execute_result"
    }
   ],
   "source": [
    "details"
   ]
  },
  {
   "cell_type": "code",
   "execution_count": null,
   "metadata": {
    "collapsed": true
   },
   "outputs": [],
   "source": []
  },
  {
   "cell_type": "code",
   "execution_count": null,
   "metadata": {
    "collapsed": true
   },
   "outputs": [],
   "source": [
    "def okBFS(arr, start, times):\n",
    "    deq = Deque()\n",
    "    queue.push_last(start)\n",
    "    dist = [-1]*(len(arr)+1)\n",
    "    dist[start] = times[start]\n",
    "    while not deq.is_empty():\n",
    "        current = deq.pop_first()\n",
    "        for v in arr[current]:\n",
    "            if dist"
   ]
  }
 ],
 "metadata": {
  "kernelspec": {
   "display_name": "Python 2",
   "language": "python",
   "name": "python2"
  },
  "language_info": {
   "codemirror_mode": {
    "name": "ipython",
    "version": 2
   },
   "file_extension": ".py",
   "mimetype": "text/x-python",
   "name": "python",
   "nbconvert_exporter": "python",
   "pygments_lexer": "ipython2",
   "version": "2.7.13"
  }
 },
 "nbformat": 4,
 "nbformat_minor": 2
}

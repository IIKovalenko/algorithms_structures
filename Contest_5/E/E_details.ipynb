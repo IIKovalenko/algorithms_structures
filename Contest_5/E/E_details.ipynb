{
 "cells": [
  {
   "cell_type": "code",
   "execution_count": 144,
   "metadata": {},
   "outputs": [],
   "source": [
    "with open('details.in') as f:\n",
    "    data = f.read().split('\\n')[:-1]\n",
    "    times = [int(t) for t in data[0].split(' ')]\n",
    "    details = [[] for i in range(len(times))]\n",
    "    for idx, s in enumerate(data[1:]):\n",
    "        details[idx] = [int(det) for det in s.split(' ') if s is not '']"
   ]
  },
  {
   "cell_type": "code",
   "execution_count": 145,
   "metadata": {
    "collapsed": true
   },
   "outputs": [],
   "source": [
    "def DFS(arr, start, times):\n",
    "    stack = [start]\n",
    "    visited = set()\n",
    "    time = 0\n",
    "    while stack:\n",
    "        current = stack.pop()\n",
    "        if current not in visited:\n",
    "            visited.add(current)\n",
    "            stack.extend(set(arr[current-1]) - visited)\n",
    "            time += times[current-1]\n",
    "    return time"
   ]
  },
  {
   "cell_type": "code",
   "execution_count": 146,
   "metadata": {},
   "outputs": [],
   "source": [
    "res = DFS(details, 1, times)"
   ]
  },
  {
   "cell_type": "code",
   "execution_count": 135,
   "metadata": {
    "collapsed": true
   },
   "outputs": [],
   "source": [
    "with open('details.out', 'w') as f:\n",
    "    f.write(str(res))"
   ]
  }
 ],
 "metadata": {
  "kernelspec": {
   "display_name": "Python 3",
   "language": "python",
   "name": "python3"
  },
  "language_info": {
   "codemirror_mode": {
    "name": "ipython",
    "version": 3
   },
   "file_extension": ".py",
   "mimetype": "text/x-python",
   "name": "python",
   "nbconvert_exporter": "python",
   "pygments_lexer": "ipython3",
   "version": "3.6.2"
  }
 },
 "nbformat": 4,
 "nbformat_minor": 2
}

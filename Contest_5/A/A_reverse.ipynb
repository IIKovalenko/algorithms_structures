{
 "cells": [
  {
   "cell_type": "code",
   "execution_count": 277,
   "metadata": {},
   "outputs": [],
   "source": [
    "with open('reverse.in') as f:\n",
    "    data = f.read().split('\\n')\n",
    "    V = int(data[0])\n",
    "    graph = []\n",
    "    for vs in data[1:]:\n",
    "        graph.append([int(v) for v in vs.split(' ') if vs is not ''])"
   ]
  },
  {
   "cell_type": "code",
   "execution_count": 279,
   "metadata": {},
   "outputs": [],
   "source": [
    "def reverse_orient_graph(graph):\n",
    "    graph_reverse = [set() for i in range(len(graph))]\n",
    "    for idx, vs in enumerate(graph):\n",
    "        for v in vs:\n",
    "            graph_reverse[v-1].add(idx+1)\n",
    "    return graph_reverse"
   ]
  },
  {
   "cell_type": "code",
   "execution_count": 280,
   "metadata": {},
   "outputs": [],
   "source": [
    "reverse_graph = reverse_orient_graph(arr)"
   ]
  },
  {
   "cell_type": "code",
   "execution_count": 281,
   "metadata": {},
   "outputs": [],
   "source": [
    "output = str(V) + '\\n'\n",
    "for vs in reverse_graph:\n",
    "    string = ''\n",
    "    for v in vs:\n",
    "        string += str(v) + ' '\n",
    "    string = string.strip()\n",
    "    output += string + '\\n'"
   ]
  },
  {
   "cell_type": "code",
   "execution_count": 282,
   "metadata": {},
   "outputs": [],
   "source": [
    "with open('reverse.out', 'w') as f:\n",
    "    f.write(output)"
   ]
  }
 ],
 "metadata": {
  "kernelspec": {
   "display_name": "Python 3",
   "language": "python",
   "name": "python3"
  },
  "language_info": {
   "codemirror_mode": {
    "name": "ipython",
    "version": 3
   },
   "file_extension": ".py",
   "mimetype": "text/x-python",
   "name": "python",
   "nbconvert_exporter": "python",
   "pygments_lexer": "ipython3",
   "version": "3.6.2"
  }
 },
 "nbformat": 4,
 "nbformat_minor": 2
}

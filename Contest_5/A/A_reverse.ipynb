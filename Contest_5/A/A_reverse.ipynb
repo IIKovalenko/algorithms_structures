{
 "cells": [
  {
   "cell_type": "code",
   "execution_count": 22,
   "metadata": {
    "collapsed": true
   },
   "outputs": [],
   "source": [
    "with open('reverse.in') as f:\n",
    "    data = f.read().split('\\n')[:-1]\n",
    "    V = int(data[0])\n",
    "    graph = []\n",
    "    for vs in data[1:]:\n",
    "        graph.append([int(v) for v in vs.split(' ') if vs is not ''])"
   ]
  },
  {
   "cell_type": "code",
   "execution_count": 23,
   "metadata": {
    "collapsed": true
   },
   "outputs": [],
   "source": [
    "def reverse_orient_graph(graph):\n",
    "    graph_reverse = [[] for i in range(len(graph))]\n",
    "    for idx, vs in enumerate(graph):\n",
    "        for v in vs:\n",
    "            graph_reverse[v-1].append(idx+1)\n",
    "    return graph_reverse"
   ]
  },
  {
   "cell_type": "code",
   "execution_count": 24,
   "metadata": {},
   "outputs": [],
   "source": [
    "reverse_graph = reverse_orient_graph(graph)"
   ]
  },
  {
   "cell_type": "code",
   "execution_count": 26,
   "metadata": {
    "collapsed": true
   },
   "outputs": [],
   "source": [
    "output = str(V) + '\\n'\n",
    "for vs in reverse_graph:\n",
    "    string = ''\n",
    "    for v in vs:\n",
    "        string += str(v) + ' '\n",
    "    string = string.strip()\n",
    "    output += string + '\\n'"
   ]
  },
  {
   "cell_type": "code",
   "execution_count": 27,
   "metadata": {
    "collapsed": true
   },
   "outputs": [],
   "source": [
    "with open('reverse.out', 'w') as f:\n",
    "    f.write(output)"
   ]
  }
 ],
 "metadata": {
  "kernelspec": {
   "display_name": "Python 3",
   "language": "python",
   "name": "python3"
  },
  "language_info": {
   "codemirror_mode": {
    "name": "ipython",
    "version": 3
   },
   "file_extension": ".py",
   "mimetype": "text/x-python",
   "name": "python",
   "nbconvert_exporter": "python",
   "pygments_lexer": "ipython3",
   "version": "3.6.2"
  }
 },
 "nbformat": 4,
 "nbformat_minor": 2
}

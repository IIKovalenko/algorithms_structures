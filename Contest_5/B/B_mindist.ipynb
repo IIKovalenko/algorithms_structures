{
 "cells": [
  {
   "cell_type": "code",
   "execution_count": 106,
   "metadata": {},
   "outputs": [],
   "source": [
    "with open('mindist.in') as f:\n",
    "    data = f.read().split('\\n')[:-1]\n",
    "    V, s = [int(x) for x in data[0].split(' ')]\n",
    "    matrix = []\n",
    "    for string in data[1:]:\n",
    "        matrix.append([int(x) for x in string.split(' ')])"
   ]
  },
  {
   "cell_type": "code",
   "execution_count": 107,
   "metadata": {
    "collapsed": true
   },
   "outputs": [],
   "source": [
    "class Queue:\n",
    "    \n",
    "    def __init__(self):\n",
    "        self.a = []\n",
    "\n",
    "    def size(self):\n",
    "        return len(self.a)\n",
    "    \n",
    "    def is_empty(self):\n",
    "        return self.a == []\n",
    "    \n",
    "    def enq(self, element):\n",
    "        self.a.append(element)\n",
    "    \n",
    "    def deq(self):\n",
    "        if not self.is_empty():\n",
    "             return self.a.pop(0)\n",
    "        else:\n",
    "            pass"
   ]
  },
  {
   "cell_type": "code",
   "execution_count": 108,
   "metadata": {
    "collapsed": true
   },
   "outputs": [],
   "source": [
    "def BFS(matrix, s):\n",
    "    s = s-1\n",
    "    queue = Queue()\n",
    "    queue.enq(s)\n",
    "    dist = [-1]*V\n",
    "    dist[s] = 0\n",
    "    visited = {s}\n",
    "    while (not queue.is_empty()):\n",
    "        current = queue.deq()\n",
    "        for idx, v in enumerate(matrix[current]):\n",
    "            if v == 1 and (idx not in visited):\n",
    "                visited.add(idx)\n",
    "                dist[idx] = dist[current] + 1\n",
    "                queue.enq(idx)\n",
    "    return dist"
   ]
  },
  {
   "cell_type": "code",
   "execution_count": 109,
   "metadata": {},
   "outputs": [],
   "source": [
    "output = ''\n",
    "for x in BFS(matrix, s):\n",
    "    output += str(x) + ' '\n",
    "output = output.strip()"
   ]
  },
  {
   "cell_type": "code",
   "execution_count": 110,
   "metadata": {
    "collapsed": true
   },
   "outputs": [],
   "source": [
    "with open('mindist.out', 'w') as f:\n",
    "    f.write(output)"
   ]
  }
 ],
 "metadata": {
  "kernelspec": {
   "display_name": "Python 3",
   "language": "python",
   "name": "python3"
  },
  "language_info": {
   "codemirror_mode": {
    "name": "ipython",
    "version": 3
   },
   "file_extension": ".py",
   "mimetype": "text/x-python",
   "name": "python",
   "nbconvert_exporter": "python",
   "pygments_lexer": "ipython3",
   "version": "3.6.2"
  }
 },
 "nbformat": 4,
 "nbformat_minor": 2
}

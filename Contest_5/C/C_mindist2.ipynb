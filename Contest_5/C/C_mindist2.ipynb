{
 "cells": [
  {
   "cell_type": "code",
   "execution_count": 100,
   "metadata": {
    "collapsed": true
   },
   "outputs": [],
   "source": [
    "class Stack:\n",
    "    \n",
    "    def __init__(self):\n",
    "        self.a = []\n",
    "    \n",
    "    def size(self):\n",
    "        return len(self.a)\n",
    "    \n",
    "    def is_empty(self):\n",
    "        return self.a == []\n",
    "    \n",
    "    def push(self, element):\n",
    "        self.a.append(element)\n",
    "    \n",
    "    def pop(self):\n",
    "        if not self.is_empty():\n",
    "            return self.a.pop()\n",
    "        else:\n",
    "            pass\n",
    "    \n",
    "    def peek(self):\n",
    "        if not self.is_empty():\n",
    "            return self.a[-1]\n",
    "        else: \n",
    "            pass"
   ]
  },
  {
   "cell_type": "code",
   "execution_count": 101,
   "metadata": {
    "collapsed": true
   },
   "outputs": [],
   "source": [
    "class Queue_of_stacks:\n",
    "    \n",
    "    def __init__(self):\n",
    "        self.left_stack = Stack()\n",
    "        self.right_stack = Stack()\n",
    "        \n",
    "    def enq(self, element):\n",
    "        self.left_stack.push(element)\n",
    "    \n",
    "    def deq(self):\n",
    "        if not self.right_stack.is_empty():\n",
    "            return self.right_stack.pop()\n",
    "        else:\n",
    "            while not self.left_stack.is_empty():\n",
    "                self.right_stack.push(self.left_stack.pop())\n",
    "            return self.right_stack.pop()\n",
    "    \n",
    "    def size(self):\n",
    "        return len(self.__call__())\n",
    "    \n",
    "    def __call__(self):\n",
    "        queue = self.right_stack.a[::-1] + self.left_stack.a\n",
    "        return queue"
   ]
  },
  {
   "cell_type": "code",
   "execution_count": 91,
   "metadata": {
    "collapsed": true
   },
   "outputs": [],
   "source": [
    "with open('mindist2.in') as f:\n",
    "    data = f.read().split('\\n')[:-1]\n",
    "    V, E = [int(x) for x in data[0].split(' ')]\n",
    "    start, goal = [int(x) for x in data[1].split(' ')]\n",
    "    rebra = []\n",
    "    for e in data[2:]:\n",
    "        rebra.append([int(v) for v in e.split(' ')])"
   ]
  },
  {
   "cell_type": "code",
   "execution_count": 92,
   "metadata": {
    "collapsed": true
   },
   "outputs": [],
   "source": [
    "def transform_to_list(rebra):\n",
    "    arr = [[] for i in range(V)]\n",
    "    for vs in rebra:\n",
    "        arr[vs[0]-1].append(vs[1]-1)\n",
    "        arr[vs[1]-1].append(vs[0]-1)\n",
    "    return arr"
   ]
  },
  {
   "cell_type": "code",
   "execution_count": 93,
   "metadata": {},
   "outputs": [],
   "source": [
    "arr = transform_to_list(rebra)"
   ]
  },
  {
   "cell_type": "code",
   "execution_count": 122,
   "metadata": {
    "collapsed": true
   },
   "outputs": [],
   "source": [
    "def BFS(arr, start, goal):\n",
    "    start -= 1\n",
    "    goal -= 1\n",
    "    queue = Queue_of_stacks()\n",
    "    dist = [-1]*V\n",
    "    queue.enq(start)\n",
    "    dist[start] = 0\n",
    "    visited = {start}\n",
    "    current = None\n",
    "    pred = [[] for v in range(V)]\n",
    "    pred[start] = -1 #нет предка у начальной в. обхода\n",
    "    while (not queue.size() == 0) and (current is not goal):\n",
    "        current = queue.deq()\n",
    "        for v in arr[current]:\n",
    "            if v not in visited:\n",
    "                queue.enq(v)\n",
    "                dist[v] = dist[current] + 1\n",
    "                pred[v] = current\n",
    "                visited.add(v)\n",
    "    now = goal\n",
    "    path = []\n",
    "    path.append(goal+1)\n",
    "    while(pred[now] != -1):\n",
    "        now = pred[now]\n",
    "        path.append(now+1)\n",
    "    path.reverse()\n",
    "    return (dist[goal], path)"
   ]
  },
  {
   "cell_type": "code",
   "execution_count": 123,
   "metadata": {},
   "outputs": [],
   "source": [
    "res = BFS(arr, start, goal)"
   ]
  },
  {
   "cell_type": "code",
   "execution_count": 124,
   "metadata": {
    "collapsed": true
   },
   "outputs": [],
   "source": [
    "str_out = ''\n",
    "for x in res[1]:\n",
    "    str_out += str(x) + ' '"
   ]
  },
  {
   "cell_type": "code",
   "execution_count": 125,
   "metadata": {},
   "outputs": [],
   "source": [
    "with open('mindist2.out', 'w') as f:\n",
    "    f.write(str(res[0]) + '\\n' + str_out)"
   ]
  }
 ],
 "metadata": {
  "kernelspec": {
   "display_name": "Python 2",
   "language": "python",
   "name": "python2"
  },
  "language_info": {
   "codemirror_mode": {
    "name": "ipython",
    "version": 2
   },
   "file_extension": ".py",
   "mimetype": "text/x-python",
   "name": "python",
   "nbconvert_exporter": "python",
   "pygments_lexer": "ipython2",
   "version": "2.7.13"
  }
 },
 "nbformat": 4,
 "nbformat_minor": 2
}

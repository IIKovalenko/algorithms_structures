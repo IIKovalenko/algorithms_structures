{
 "cells": [
  {
   "cell_type": "code",
   "execution_count": 89,
   "metadata": {
    "collapsed": true
   },
   "outputs": [],
   "source": [
    "class Stack:\n",
    "    \n",
    "    def __init__(self):\n",
    "        self.a = []\n",
    "    \n",
    "    def size(self):\n",
    "        return len(self.a)\n",
    "    \n",
    "    def is_empty(self):\n",
    "        return self.a == []\n",
    "    \n",
    "    def push(self, element):\n",
    "        self.a.append(element)\n",
    "    \n",
    "    def pop(self):\n",
    "        if not self.is_empty():\n",
    "            return self.a.pop()\n",
    "        else:\n",
    "            pass\n",
    "    \n",
    "    def peek(self):\n",
    "        if not self.is_empty():\n",
    "            return self.a[-1]\n",
    "        else: \n",
    "            pass"
   ]
  },
  {
   "cell_type": "code",
   "execution_count": 90,
   "metadata": {
    "collapsed": true
   },
   "outputs": [],
   "source": [
    "class Queue_of_stacks:\n",
    "    \n",
    "    def __init__(self):\n",
    "        self.left_stack = Stack()\n",
    "        self.right_stack = Stack()\n",
    "        \n",
    "    def enq(self, element):\n",
    "        self.left_stack.push(element)\n",
    "    \n",
    "    def deq(self):\n",
    "        if not self.right_stack.is_empty():\n",
    "            return self.right_stack.pop()\n",
    "        else:\n",
    "            while not self.left_stack.is_empty():\n",
    "                self.right_stack.push(self.left_stack.pop())\n",
    "            return self.right_stack.pop()\n",
    "    \n",
    "    def size(self):\n",
    "        return len(self.__call__())\n",
    "    \n",
    "    def __call__(self):\n",
    "        queue = self.right_stack.a[::-1] + self.left_stack.a\n",
    "        return queue"
   ]
  },
  {
   "cell_type": "code",
   "execution_count": 91,
   "metadata": {
    "collapsed": true
   },
   "outputs": [],
   "source": [
    "with open('crazycalc.in') as f:\n",
    "    start, goal = [int(x) for x in f.read().split(' ')]"
   ]
  },
  {
   "cell_type": "code",
   "execution_count": 106,
   "metadata": {
    "collapsed": true
   },
   "outputs": [],
   "source": [
    "def BFS(start, goal):\n",
    "    start = start\n",
    "    goal = goal\n",
    "    queue = Queue_of_stacks()\n",
    "    dist = [-1]*10001\n",
    "    dist[start] = 0\n",
    "    queue.enq(start)\n",
    "    visited = {start}\n",
    "    current = None\n",
    "    while (queue.size() != 0) and (current is not goal):\n",
    "        current = queue.deq()\n",
    "        v1 = current*3\n",
    "        v2 = current + sum([int(s) for s in str(current)])\n",
    "        v3 = current-2\n",
    "        for v in [v for v in (v1, v2, v3) if (v>=0 and v<10000)]:\n",
    "            if v not in visited:\n",
    "                queue.enq(v)\n",
    "                dist[v] = dist[current] + 1\n",
    "                visited.add(v)\n",
    "    return dist[goal]"
   ]
  },
  {
   "cell_type": "code",
   "execution_count": 107,
   "metadata": {
    "collapsed": true
   },
   "outputs": [],
   "source": [
    "res = BFS(start, goal)"
   ]
  },
  {
   "cell_type": "code",
   "execution_count": 109,
   "metadata": {
    "collapsed": true
   },
   "outputs": [],
   "source": [
    "with open('crazycalc.out', 'w') as f:\n",
    "    f.write(str(res))"
   ]
  }
 ],
 "metadata": {
  "kernelspec": {
   "display_name": "Python 2",
   "language": "python",
   "name": "python2"
  },
  "language_info": {
   "codemirror_mode": {
    "name": "ipython",
    "version": 2
   },
   "file_extension": ".py",
   "mimetype": "text/x-python",
   "name": "python",
   "nbconvert_exporter": "python",
   "pygments_lexer": "ipython2",
   "version": "2.7.13"
  }
 },
 "nbformat": 4,
 "nbformat_minor": 2
}

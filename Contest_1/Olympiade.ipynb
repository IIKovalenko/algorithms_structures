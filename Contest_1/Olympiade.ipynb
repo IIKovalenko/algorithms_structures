{
 "cells": [
  {
   "cell_type": "code",
   "execution_count": 77,
   "metadata": {},
   "outputs": [
    {
     "name": "stdout",
     "output_type": "stream",
     "text": [
      "5\n"
     ]
    }
   ],
   "source": [
    "N = int(raw_input())"
   ]
  },
  {
   "cell_type": "code",
   "execution_count": 78,
   "metadata": {},
   "outputs": [
    {
     "name": "stdout",
     "output_type": "stream",
     "text": [
      "100 312 0 312 500\n"
     ]
    }
   ],
   "source": [
    "data = raw_input()"
   ]
  },
  {
   "cell_type": "code",
   "execution_count": 79,
   "metadata": {
    "collapsed": true
   },
   "outputs": [],
   "source": [
    "scores = [int(score) for score in data.split(' ')]"
   ]
  },
  {
   "cell_type": "code",
   "execution_count": 80,
   "metadata": {
    "collapsed": true
   },
   "outputs": [],
   "source": [
    "def swap(arr, left, right):\n",
    "    a = arr\n",
    "    t = a[left]\n",
    "    a[left] = a[right]\n",
    "    a[right] = t\n",
    "    return a"
   ]
  },
  {
   "cell_type": "code",
   "execution_count": 81,
   "metadata": {
    "collapsed": true
   },
   "outputs": [],
   "source": [
    "def insertion_sort(array):\n",
    "    a = array\n",
    "    indexes = [x+1 for x in range(len(a))]\n",
    "    for i in range(len(a)):\n",
    "        j = i\n",
    "        while (j>0) and (a[j-1] > a[j]):\n",
    "            swap(a, j-1, j)\n",
    "            swap(indexes, j-1, j)\n",
    "            j = j-1\n",
    "        #print a\n",
    "    return a, indexes"
   ]
  },
  {
   "cell_type": "code",
   "execution_count": 82,
   "metadata": {},
   "outputs": [],
   "source": [
    "sorted_scores = insertion_sort(scores)\n"
   ]
  },
  {
   "cell_type": "code",
   "execution_count": 83,
   "metadata": {},
   "outputs": [],
   "source": [
    "answer = ''\n",
    "for score in sorted_scores[1][::-1]:\n",
    "    answer = answer + str(score) + ' '"
   ]
  },
  {
   "cell_type": "code",
   "execution_count": 88,
   "metadata": {},
   "outputs": [
    {
     "name": "stdout",
     "output_type": "stream",
     "text": [
      "5 4 2 1 3\n"
     ]
    }
   ],
   "source": [
    "print answer[:-1]"
   ]
  },
  {
   "cell_type": "code",
   "execution_count": null,
   "metadata": {
    "collapsed": true
   },
   "outputs": [],
   "source": []
  }
 ],
 "metadata": {
  "kernelspec": {
   "display_name": "Python 2",
   "language": "python",
   "name": "python2"
  },
  "language_info": {
   "codemirror_mode": {
    "name": "ipython",
    "version": 2
   },
   "file_extension": ".py",
   "mimetype": "text/x-python",
   "name": "python",
   "nbconvert_exporter": "python",
   "pygments_lexer": "ipython2",
   "version": "2.7.13"
  }
 },
 "nbformat": 4,
 "nbformat_minor": 2
}

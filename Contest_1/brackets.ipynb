{
 "cells": [
  {
   "cell_type": "code",
   "execution_count": 34,
   "metadata": {},
   "outputs": [
    {
     "name": "stdout",
     "output_type": "stream",
     "text": [
      "]]]]\n"
     ]
    }
   ],
   "source": [
    "brackets = raw_input()"
   ]
  },
  {
   "cell_type": "code",
   "execution_count": 65,
   "metadata": {},
   "outputs": [],
   "source": [
    "def check_brackets(brackets):\n",
    "    open_brackets = ['(', '[', '{']\n",
    "    close_brackets = [')', ']', '}']\n",
    "    stack = []\n",
    "    error = 0\n",
    "    last_open = 0\n",
    "    is_diff = False\n",
    "    for bracket in brackets:\n",
    "        if bracket in open_brackets:\n",
    "            stack.append(bracket)\n",
    "        if bracket in close_brackets:\n",
    "            try: \n",
    "                last_open = stack.pop()\n",
    "            except IndexError:\n",
    "                error = 1\n",
    "            if last_open != open_brackets[close_brackets.index(bracket)]:\n",
    "                is_diff = True\n",
    "    if error or (stack != []) or is_diff:\n",
    "        answer = 'NO'\n",
    "    else:\n",
    "        answer = 'YES'\n",
    "    return answer"
   ]
  },
  {
   "cell_type": "code",
   "execution_count": 66,
   "metadata": {},
   "outputs": [
    {
     "name": "stdout",
     "output_type": "stream",
     "text": [
      "NO\n"
     ]
    }
   ],
   "source": [
    "print(check_brackets(brackets))"
   ]
  }
 ],
 "metadata": {
  "kernelspec": {
   "display_name": "Python 2",
   "language": "python",
   "name": "python2"
  },
  "language_info": {
   "codemirror_mode": {
    "name": "ipython",
    "version": 2
   },
   "file_extension": ".py",
   "mimetype": "text/x-python",
   "name": "python",
   "nbconvert_exporter": "python",
   "pygments_lexer": "ipython2",
   "version": "2.7.13"
  }
 },
 "nbformat": 4,
 "nbformat_minor": 2
}

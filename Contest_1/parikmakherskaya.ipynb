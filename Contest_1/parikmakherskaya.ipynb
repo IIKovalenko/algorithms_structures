{
 "cells": [
  {
   "cell_type": "code",
   "execution_count": 19,
   "metadata": {
    "collapsed": true
   },
   "outputs": [],
   "source": [
    "class Queue:\n",
    "    \n",
    "    def __init__(self):\n",
    "        self.a = []\n",
    "\n",
    "    def size(self):\n",
    "        return len(self.a)\n",
    "    \n",
    "    def is_empty(self):\n",
    "        return self.a == []\n",
    "    \n",
    "    def enq(self, element):\n",
    "        self.a.append(element)\n",
    "    \n",
    "    def deq(self):\n",
    "        if not self.is_empty():\n",
    "             self.a.pop(0)\n",
    "        else:\n",
    "            pass\n",
    "    \n",
    "    def __call__(self):\n",
    "        return(self.a)"
   ]
  },
  {
   "cell_type": "code",
   "execution_count": 3,
   "metadata": {},
   "outputs": [
    {
     "name": "stdout",
     "output_type": "stream",
     "text": [
      "5\n"
     ]
    }
   ],
   "source": [
    "N = int(input())"
   ]
  },
  {
   "cell_type": "code",
   "execution_count": 4,
   "metadata": {},
   "outputs": [
    {
     "name": "stdout",
     "output_type": "stream",
     "text": [
      "1 0 100\n",
      "2 0 0\n",
      "2 1 0\n",
      "2 2 3\n",
      "2 3 0\n"
     ]
    }
   ],
   "source": [
    "data = [raw_input() for i in range(N)]"
   ]
  },
  {
   "cell_type": "code",
   "execution_count": 20,
   "metadata": {
    "collapsed": true
   },
   "outputs": [],
   "source": [
    "def get_quit_times(data):\n",
    "    exit = [0 for x in data]\n",
    "    queue = Queue()\n",
    "    time = 0\n",
    "    not_in_queue = 0\n",
    "    \n",
    "    for idx, string in enumerate(data):\n",
    "        string = string.split(' ')\n",
    "        client_time = 60*int(string[0]) + int(string[1])\n",
    "        client_wait = int(string[2])\n",
    "        time = client_time\n",
    "        \n",
    "        while (not queue.is_empty()) and (queue()[0] < time) :\n",
    "            a = queue.deq()\n",
    "        \n",
    "        if client_wait < queue.size():\n",
    "            exit_time = client_time\n",
    "            exit[idx] = '{} {}'.format(exit_time/60, exit_time%60)\n",
    "            continue\n",
    "            #print('{} {}'.format(client_hour, client_min))\n",
    "        elif queue.is_empty():\n",
    "            exit_time = client_time + 20\n",
    "            queue.enq(exit_time)\n",
    "            exit[idx] = '{} {}'.format(exit_time/60, exit_time%60)\n",
    "        else: \n",
    "            exit_time = queue()[-1] + 20\n",
    "            queue.enq(exit_time)\n",
    "            exit[idx] = '{} {}'.format(exit_time/60, exit_time%60)\n",
    "            \n",
    "    return exit"
   ]
  },
  {
   "cell_type": "code",
   "execution_count": 21,
   "metadata": {},
   "outputs": [
    {
     "name": "stdout",
     "output_type": "stream",
     "text": [
      "1 20\n",
      "2 20\n",
      "2 1\n",
      "2 40\n",
      "2 3\n"
     ]
    }
   ],
   "source": [
    "for time in get_quit_times(data):\n",
    "    print(time)"
   ]
  },
  {
   "cell_type": "code",
   "execution_count": null,
   "metadata": {
    "collapsed": true
   },
   "outputs": [],
   "source": []
  }
 ],
 "metadata": {
  "kernelspec": {
   "display_name": "Python 2",
   "language": "python",
   "name": "python2"
  },
  "language_info": {
   "codemirror_mode": {
    "name": "ipython",
    "version": 2
   },
   "file_extension": ".py",
   "mimetype": "text/x-python",
   "name": "python",
   "nbconvert_exporter": "python",
   "pygments_lexer": "ipython2",
   "version": "2.7.13"
  }
 },
 "nbformat": 4,
 "nbformat_minor": 2
}

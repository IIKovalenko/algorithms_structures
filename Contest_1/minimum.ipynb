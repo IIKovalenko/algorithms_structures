{
 "cells": [
  {
   "cell_type": "code",
   "execution_count": 1,
   "metadata": {
    "collapsed": true
   },
   "outputs": [],
   "source": [
    "class Stack_with_min:\n",
    "    def __init__(self):\n",
    "        self.a = []\n",
    "        self.mins = []\n",
    "    \n",
    "    def push(self, element):\n",
    "        self.a.append(element)\n",
    "        if self.mins == []:\n",
    "            self.mins.append(element)\n",
    "        else:\n",
    "            self.mins.append(min(element, self.mins[-1]))\n",
    "    \n",
    "    def pop(self):\n",
    "        self.mins.pop()\n",
    "        return self.a.pop()\n",
    "    \n",
    "    def peek(self):\n",
    "        if not self.is_empty():\n",
    "            return self.a[-1]\n",
    "        else: \n",
    "            pass\n",
    "        \n",
    "    def is_empty(self):\n",
    "        return self.a == []\n",
    "    \n",
    "    def size(self):\n",
    "        return len(self.a)\n",
    "    \n",
    "    def minimum(self):\n",
    "        if not self.is_empty():\n",
    "            return self.mins[-1]\n",
    "        else: \n",
    "            pass\n",
    "        \n",
    "    def __call__(self):\n",
    "        return self.a"
   ]
  },
  {
   "cell_type": "code",
   "execution_count": 2,
   "metadata": {
    "collapsed": true
   },
   "outputs": [],
   "source": [
    "class Queue_of_stacks_with_min:\n",
    "    \n",
    "    def __init__(self):\n",
    "        self.left_stack = Stack_with_min()\n",
    "        self.right_stack = Stack_with_min()\n",
    "        \n",
    "    def enq(self, element):\n",
    "        self.left_stack.push(element)\n",
    "    \n",
    "    def deq(self):\n",
    "        if not self.right_stack.is_empty():\n",
    "            self.right_stack.pop()\n",
    "        else:\n",
    "            while not self.left_stack.is_empty():\n",
    "                self.right_stack.push(self.left_stack.pop())\n",
    "            self.right_stack.pop()\n",
    "    \n",
    "    def minimum(self):\n",
    "        mins = [x for x in [self.left_stack.minimum(), self.right_stack.minimum()] if bool(x)]\n",
    "        return min(mins)\n",
    "    \n",
    "    def size(self):\n",
    "        return len(self.__call__())\n",
    "    \n",
    "    def __call__(self):\n",
    "        queue = self.right_stack.a[::-1] + self.left_stack.a\n",
    "        return queue"
   ]
  },
  {
   "cell_type": "code",
   "execution_count": 53,
   "metadata": {},
   "outputs": [
    {
     "name": "stdout",
     "output_type": "stream",
     "text": [
      "7 1\n"
     ]
    }
   ],
   "source": [
    "n, k = [int(s) for s in raw_input().split(' ')]"
   ]
  },
  {
   "cell_type": "code",
   "execution_count": 54,
   "metadata": {},
   "outputs": [
    {
     "name": "stdout",
     "output_type": "stream",
     "text": [
      "1 3 2 4 5 3 1\n"
     ]
    }
   ],
   "source": [
    "array = [int(x) for x in raw_input().split(' ')]"
   ]
  },
  {
   "cell_type": "code",
   "execution_count": 55,
   "metadata": {},
   "outputs": [],
   "source": [
    "def get_minimums(array):\n",
    "    queue = Queue_of_stacks_with_min()\n",
    "    if array == []:\n",
    "        return 0\n",
    "    for i in xrange(n):\n",
    "        queue.enq(array[i])\n",
    "        if queue.size() == k:\n",
    "            print(queue.minimum())\n",
    "            queue.deq()\n",
    "        i += 1"
   ]
  },
  {
   "cell_type": "code",
   "execution_count": 56,
   "metadata": {},
   "outputs": [
    {
     "name": "stdout",
     "output_type": "stream",
     "text": [
      "1\n",
      "3\n",
      "2\n",
      "4\n",
      "5\n",
      "3\n",
      "1\n"
     ]
    }
   ],
   "source": [
    "get_minimums(array)"
   ]
  },
  {
   "cell_type": "code",
   "execution_count": null,
   "metadata": {
    "collapsed": true
   },
   "outputs": [],
   "source": []
  }
 ],
 "metadata": {
  "kernelspec": {
   "display_name": "Python 2",
   "language": "python",
   "name": "python2"
  },
  "language_info": {
   "codemirror_mode": {
    "name": "ipython",
    "version": 2
   },
   "file_extension": ".py",
   "mimetype": "text/x-python",
   "name": "python",
   "nbconvert_exporter": "python",
   "pygments_lexer": "ipython2",
   "version": "2.7.13"
  }
 },
 "nbformat": 4,
 "nbformat_minor": 2
}

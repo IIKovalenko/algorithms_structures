{
 "cells": [
  {
   "cell_type": "code",
   "execution_count": 2,
   "metadata": {},
   "outputs": [],
   "source": [
    "#простой метод, позволяющий мерять время\n",
    "import time\n",
    " \n",
    "class Profiler(object):\n",
    "    def __enter__(self):\n",
    "        self._startTime = time.time()\n",
    "         \n",
    "    def __exit__(self, type, value, traceback):\n",
    "        print(\"Elapsed time: {:.3f} sec\".format(time.time() - self._startTime))"
   ]
  },
  {
   "cell_type": "code",
   "execution_count": 3,
   "metadata": {
    "collapsed": true
   },
   "outputs": [],
   "source": [
    "#чтобы каждый раз не писать определим swap сразу\n",
    "#вообще два числа массива поменять можно так: a, b = b, a\n",
    "def swap(arr, left, right):\n",
    "    a = arr\n",
    "    t = a[left]\n",
    "    a[left] = a[right]\n",
    "    a[right] = t\n",
    "    return a"
   ]
  },
  {
   "cell_type": "code",
   "execution_count": 4,
   "metadata": {
    "collapsed": true
   },
   "outputs": [],
   "source": [
    "#numpy лишним не бывает\n",
    "import numpy as np"
   ]
  },
  {
   "cell_type": "markdown",
   "metadata": {},
   "source": [
    "### Алгоритм сортировки вставками"
   ]
  },
  {
   "cell_type": "code",
   "execution_count": 5,
   "metadata": {
    "collapsed": true
   },
   "outputs": [],
   "source": [
    "def insertion_sort(array):\n",
    "    a = array\n",
    "    for i in range(len(a)):\n",
    "        j = i\n",
    "        while (j>0) and (a[j-1] > a[j]):\n",
    "            swap(a, j-1, j)\n",
    "            j = j-1\n",
    "        #print a\n",
    "    return a"
   ]
  },
  {
   "cell_type": "code",
   "execution_count": 6,
   "metadata": {},
   "outputs": [
    {
     "data": {
      "text/plain": [
       "[0, 0, 1, 2, 8, 9, 14, 34, 100]"
      ]
     },
     "execution_count": 6,
     "metadata": {},
     "output_type": "execute_result"
    }
   ],
   "source": [
    "insertion_sort([1,2,0,0,34,14,9,8,100])"
   ]
  },
  {
   "cell_type": "code",
   "execution_count": 8,
   "metadata": {},
   "outputs": [
    {
     "name": "stdout",
     "output_type": "stream",
     "text": [
      "Elapsed time: 0.002 sec\n",
      "Elapsed time: 0.161 sec\n"
     ]
    }
   ],
   "source": [
    "#как мы видим, алгоритм сортировка вставками работает за О(n^2) в худшем случае, как и в теории\n",
    "with Profiler() as p:\n",
    "    insertion_sort(list(range(100))[::-1])\n",
    "    \n",
    "with Profiler() as p:\n",
    "    insertion_sort(list(range(100*10))[::-1])"
   ]
  },
  {
   "cell_type": "markdown",
   "metadata": {},
   "source": [
    "### Алгоритм сортировки подсчетом"
   ]
  },
  {
   "cell_type": "code",
   "execution_count": 9,
   "metadata": {
    "collapsed": true
   },
   "outputs": [],
   "source": [
    "# К это множество различных чисел\n",
    "def count_sort(array, k):\n",
    "    a = array\n",
    "    b = [0]*(k+1)\n",
    "    for element in a:\n",
    "        b[element] = b[element] + 1\n",
    "    \n",
    "    j = 0\n",
    "    for idx, number in enumerate(b):\n",
    "        for j in range(j, j+number):\n",
    "            a[j] = idx\n",
    "            j = j + 1\n",
    "    return a"
   ]
  },
  {
   "cell_type": "code",
   "execution_count": 10,
   "metadata": {},
   "outputs": [
    {
     "data": {
      "text/plain": [
       "[1, 1, 2, 3, 3, 4, 5, 5, 7, 9]"
      ]
     },
     "execution_count": 10,
     "metadata": {},
     "output_type": "execute_result"
    }
   ],
   "source": [
    "count_sort([4,5,1,3,7,3,9,1,5,2], 9)"
   ]
  },
  {
   "cell_type": "code",
   "execution_count": 12,
   "metadata": {},
   "outputs": [
    {
     "name": "stdout",
     "output_type": "stream",
     "text": [
      "Elapsed time: 0.000 sec\n",
      "Elapsed time: 0.001 sec\n"
     ]
    }
   ],
   "source": [
    "#как мы видим, алгоритм сортировка подсчетом работает за О(n + k) в худшем случае, как и в теории ()\n",
    "with Profiler() as p:\n",
    "    count_sort(list(range(100))[::-1], 100)\n",
    "    \n",
    "with Profiler() as p:\n",
    "    count_sort(list(range(100*10))[::-1], 1000)"
   ]
  },
  {
   "cell_type": "markdown",
   "metadata": {},
   "source": [
    "### Стек"
   ]
  },
  {
   "cell_type": "code",
   "execution_count": 13,
   "metadata": {
    "collapsed": true
   },
   "outputs": [],
   "source": [
    "class Stack:\n",
    "    \n",
    "    def __init__(self):\n",
    "        self.a = []\n",
    "    \n",
    "    def size(self):\n",
    "        return len(self.a)\n",
    "    \n",
    "    def is_empty(self):\n",
    "        return self.a == []\n",
    "    \n",
    "    def push(self, element):\n",
    "        self.a.append(element)\n",
    "    \n",
    "    def pop(self):\n",
    "        if not self.is_empty():\n",
    "            return self.a.pop()\n",
    "        else:\n",
    "            pass\n",
    "    \n",
    "    def peek(self):\n",
    "        if not self.is_empty():\n",
    "            return self.a[-1]\n",
    "        else: \n",
    "            pass"
   ]
  },
  {
   "cell_type": "code",
   "execution_count": 14,
   "metadata": {
    "collapsed": true
   },
   "outputs": [],
   "source": [
    "stack_1 = Stack()"
   ]
  },
  {
   "cell_type": "code",
   "execution_count": 15,
   "metadata": {
    "collapsed": true
   },
   "outputs": [],
   "source": [
    "stack_1.push(1)\n",
    "stack_1.push(3)\n",
    "stack_1.push(0)\n",
    "stack_1.push(17)"
   ]
  },
  {
   "cell_type": "code",
   "execution_count": 16,
   "metadata": {},
   "outputs": [
    {
     "data": {
      "text/plain": [
       "[1, 3, 0, 17]"
      ]
     },
     "execution_count": 16,
     "metadata": {},
     "output_type": "execute_result"
    }
   ],
   "source": [
    "stack_1.a"
   ]
  },
  {
   "cell_type": "code",
   "execution_count": 17,
   "metadata": {},
   "outputs": [
    {
     "data": {
      "text/plain": [
       "17"
      ]
     },
     "execution_count": 17,
     "metadata": {},
     "output_type": "execute_result"
    }
   ],
   "source": [
    "stack_1.pop()"
   ]
  },
  {
   "cell_type": "code",
   "execution_count": 18,
   "metadata": {},
   "outputs": [
    {
     "data": {
      "text/plain": [
       "[1, 3, 0]"
      ]
     },
     "execution_count": 18,
     "metadata": {},
     "output_type": "execute_result"
    }
   ],
   "source": [
    "stack_1.a"
   ]
  },
  {
   "cell_type": "markdown",
   "metadata": {},
   "source": [
    "### Очередь (доделать с реалокацией)"
   ]
  },
  {
   "cell_type": "code",
   "execution_count": 19,
   "metadata": {
    "collapsed": true
   },
   "outputs": [],
   "source": [
    "class Queue:\n",
    "    \n",
    "    def __init__(self):\n",
    "        self.a = []\n",
    "\n",
    "    def size(self):\n",
    "        return len(self.a)\n",
    "    \n",
    "    def is_empty(self):\n",
    "        return self.a == []\n",
    "    \n",
    "    def enq(self, element):\n",
    "        self.a.append(element)\n",
    "    \n",
    "    def deq(self):\n",
    "        if not self.is_empty():\n",
    "             return self.a.pop(0)\n",
    "        else:\n",
    "            pass"
   ]
  },
  {
   "cell_type": "code",
   "execution_count": 20,
   "metadata": {
    "collapsed": true
   },
   "outputs": [],
   "source": [
    "q = Queue()"
   ]
  },
  {
   "cell_type": "code",
   "execution_count": 21,
   "metadata": {
    "collapsed": true
   },
   "outputs": [],
   "source": [
    "q.enq(6)\n",
    "q.enq(4)\n",
    "q.enq(7)"
   ]
  },
  {
   "cell_type": "code",
   "execution_count": 22,
   "metadata": {},
   "outputs": [
    {
     "data": {
      "text/plain": [
       "6"
      ]
     },
     "execution_count": 22,
     "metadata": {},
     "output_type": "execute_result"
    }
   ],
   "source": [
    "q.deq()"
   ]
  },
  {
   "cell_type": "code",
   "execution_count": 23,
   "metadata": {},
   "outputs": [
    {
     "data": {
      "text/plain": [
       "2"
      ]
     },
     "execution_count": 23,
     "metadata": {},
     "output_type": "execute_result"
    }
   ],
   "source": [
    "q.size()"
   ]
  },
  {
   "cell_type": "code",
   "execution_count": 24,
   "metadata": {},
   "outputs": [
    {
     "data": {
      "text/plain": [
       "[4, 7]"
      ]
     },
     "execution_count": 24,
     "metadata": {},
     "output_type": "execute_result"
    }
   ],
   "source": [
    "q.a"
   ]
  },
  {
   "cell_type": "markdown",
   "metadata": {},
   "source": [
    "### Очередь на двух стеках."
   ]
  },
  {
   "cell_type": "code",
   "execution_count": 25,
   "metadata": {
    "collapsed": true
   },
   "outputs": [],
   "source": [
    "class Queue_of_stacks:\n",
    "    \n",
    "    def __init__(self):\n",
    "        self.left_stack = Stack()\n",
    "        self.right_stack = Stack()\n",
    "        \n",
    "    def enq(self, element):\n",
    "        self.left_stack.push(element)\n",
    "    \n",
    "    def deq(self):\n",
    "        if not self.right_stack.is_empty():\n",
    "            return self.right_stack.pop()\n",
    "        else:\n",
    "            while not self.left_stack.is_empty():\n",
    "                self.right_stack.push(self.left_stack.pop())\n",
    "            return self.right_stack.pop()\n",
    "    \n",
    "    def size(self):\n",
    "        return len(self.__call__())\n",
    "    \n",
    "    def __call__(self):\n",
    "        queue = self.right_stack.a[::-1] + self.left_stack.a\n",
    "        return queue"
   ]
  },
  {
   "cell_type": "code",
   "execution_count": 26,
   "metadata": {
    "collapsed": true
   },
   "outputs": [],
   "source": [
    "test = Queue_of_stacks()"
   ]
  },
  {
   "cell_type": "code",
   "execution_count": 27,
   "metadata": {
    "collapsed": true
   },
   "outputs": [],
   "source": [
    "test.enq(3)\n",
    "test.enq(5)\n",
    "test.enq(0)\n",
    "test.enq(1)"
   ]
  },
  {
   "cell_type": "code",
   "execution_count": 28,
   "metadata": {},
   "outputs": [
    {
     "data": {
      "text/plain": [
       "[3, 5, 0, 1]"
      ]
     },
     "execution_count": 28,
     "metadata": {},
     "output_type": "execute_result"
    }
   ],
   "source": [
    "test()"
   ]
  },
  {
   "cell_type": "code",
   "execution_count": 29,
   "metadata": {},
   "outputs": [
    {
     "data": {
      "text/plain": [
       "5"
      ]
     },
     "execution_count": 29,
     "metadata": {},
     "output_type": "execute_result"
    }
   ],
   "source": [
    "test.deq()\n",
    "test.deq()"
   ]
  },
  {
   "cell_type": "code",
   "execution_count": 30,
   "metadata": {},
   "outputs": [
    {
     "data": {
      "text/plain": [
       "[0, 1]"
      ]
     },
     "execution_count": 30,
     "metadata": {},
     "output_type": "execute_result"
    }
   ],
   "source": [
    "test()"
   ]
  },
  {
   "cell_type": "code",
   "execution_count": 42,
   "metadata": {},
   "outputs": [
    {
     "name": "stdout",
     "output_type": "stream",
     "text": [
      "Elapsed time: 0.012 sec\n"
     ]
    }
   ],
   "source": [
    "with Profiler() as p:\n",
    "    for x in range(10000):\n",
    "        test.deq()"
   ]
  },
  {
   "cell_type": "markdown",
   "metadata": {
    "collapsed": true
   },
   "source": [
    "### Дек."
   ]
  },
  {
   "cell_type": "code",
   "execution_count": 35,
   "metadata": {
    "collapsed": true
   },
   "outputs": [],
   "source": [
    "class Deque:\n",
    "    def __init__(self):\n",
    "        self.a = []\n",
    "    \n",
    "    def is_empty(self):\n",
    "        return self.a == []\n",
    "    \n",
    "    def size(self):\n",
    "        return len(self.a)\n",
    "    \n",
    "    def push_last(self, element):\n",
    "        self.a.append(element)\n",
    "    \n",
    "    def pop_last(self):\n",
    "        return(self.a.pop())\n",
    "    \n",
    "    def push_first(self, element):\n",
    "        self.a.insert(0, element)\n",
    "        \n",
    "    def pop_first(self):\n",
    "        return(self.a.pop(0))\n",
    "    \n",
    "    def __call__(self):\n",
    "        return(self.a)"
   ]
  },
  {
   "cell_type": "code",
   "execution_count": 36,
   "metadata": {
    "collapsed": true
   },
   "outputs": [],
   "source": [
    "deq = Deque()"
   ]
  },
  {
   "cell_type": "code",
   "execution_count": 37,
   "metadata": {},
   "outputs": [
    {
     "data": {
      "text/plain": [
       "4"
      ]
     },
     "execution_count": 37,
     "metadata": {},
     "output_type": "execute_result"
    }
   ],
   "source": [
    "deq.push_last(1)\n",
    "deq.push_last(2)\n",
    "deq.pop_last()\n",
    "deq.push_first(3)\n",
    "deq.push_first(4)\n",
    "deq.pop_first()"
   ]
  },
  {
   "cell_type": "code",
   "execution_count": 38,
   "metadata": {},
   "outputs": [
    {
     "data": {
      "text/plain": [
       "[3, 1]"
      ]
     },
     "execution_count": 38,
     "metadata": {},
     "output_type": "execute_result"
    }
   ],
   "source": [
    "deq()"
   ]
  },
  {
   "cell_type": "markdown",
   "metadata": {
    "collapsed": true
   },
   "source": [
    "### Стек с минимумом."
   ]
  },
  {
   "cell_type": "code",
   "execution_count": 30,
   "metadata": {
    "collapsed": true
   },
   "outputs": [],
   "source": [
    "class Stack_with_min:\n",
    "    def __init__(self):\n",
    "        self.a = []\n",
    "        self.mins = []\n",
    "    \n",
    "    def push(self, element):\n",
    "        self.a.append(element)\n",
    "        if self.mins == []:\n",
    "            self.mins.append(element)\n",
    "        else:\n",
    "            self.mins.append(min(element, self.mins[-1]))\n",
    "    \n",
    "    def pop(self):\n",
    "        self.mins.pop()\n",
    "        return self.a.pop()\n",
    "    \n",
    "    def peek(self):\n",
    "        if not self.is_empty():\n",
    "            return self.a[-1]\n",
    "        else: \n",
    "            pass\n",
    "        \n",
    "    def is_empty(self):\n",
    "        return self.a == []\n",
    "    \n",
    "    def size(self):\n",
    "        return len(self.a)\n",
    "    \n",
    "    def minimum(self):\n",
    "        if not self.is_empty():\n",
    "            return self.mins[-1]\n",
    "        else: \n",
    "            pass\n",
    "        \n",
    "    def __call__(self):\n",
    "        return self.a"
   ]
  },
  {
   "cell_type": "code",
   "execution_count": 31,
   "metadata": {
    "collapsed": true
   },
   "outputs": [],
   "source": [
    "st_m = Stack_with_min()"
   ]
  },
  {
   "cell_type": "code",
   "execution_count": 32,
   "metadata": {
    "collapsed": true
   },
   "outputs": [],
   "source": [
    "st_m.push(4)\n",
    "st_m.push(3)\n",
    "st_m.push(5)\n",
    "st_m.push(-1)"
   ]
  },
  {
   "cell_type": "code",
   "execution_count": 33,
   "metadata": {},
   "outputs": [
    {
     "data": {
      "text/plain": [
       "[4, 3, 3, -1]"
      ]
     },
     "execution_count": 33,
     "metadata": {},
     "output_type": "execute_result"
    }
   ],
   "source": [
    "st_m.mins"
   ]
  },
  {
   "cell_type": "code",
   "execution_count": 34,
   "metadata": {},
   "outputs": [
    {
     "data": {
      "text/plain": [
       "-1"
      ]
     },
     "execution_count": 34,
     "metadata": {},
     "output_type": "execute_result"
    }
   ],
   "source": [
    "st_m.pop()"
   ]
  },
  {
   "cell_type": "code",
   "execution_count": 35,
   "metadata": {},
   "outputs": [
    {
     "data": {
      "text/plain": [
       "[4, 3, 3]"
      ]
     },
     "execution_count": 35,
     "metadata": {},
     "output_type": "execute_result"
    }
   ],
   "source": [
    "st_m.mins"
   ]
  },
  {
   "cell_type": "markdown",
   "metadata": {},
   "source": [
    "### Очередь с минимумом.\n",
    "###### Абсолютно то же самое, что и очередь на двух стеках, только в конструкторе класса вместо обычного стека объявляем стек с минимумом и добавляем метод minimum, который берет минимум из двух стеков."
   ]
  },
  {
   "cell_type": "code",
   "execution_count": 100,
   "metadata": {
    "collapsed": true
   },
   "outputs": [],
   "source": [
    "class Queue_of_stacks_with_min:\n",
    "    \n",
    "    def __init__(self):\n",
    "        self.left_stack = Stack_with_min()\n",
    "        self.right_stack = Stack_with_min()\n",
    "        \n",
    "    def enq(self, element):\n",
    "        self.left_stack.push(element)\n",
    "    \n",
    "    def deq(self):\n",
    "        if not self.right_stack.is_empty():\n",
    "            self.right_stack.pop()\n",
    "        else:\n",
    "            while not self.left_stack.is_empty():\n",
    "                self.right_stack.push(self.left_stack.pop())\n",
    "            self.right_stack.pop()\n",
    "    \n",
    "    def minimum(self):\n",
    "        mins = [x for x in [self.left_stack.minimum(), self.right_stack.minimum()] if bool(x)]\n",
    "        return min(mins)\n",
    "    \n",
    "    def size(self):\n",
    "        return len(self.__call__())\n",
    "    \n",
    "    def __call__(self):\n",
    "        queue = self.right_stack.a[::-1] + self.left_stack.a\n",
    "        return queue"
   ]
  },
  {
   "cell_type": "code",
   "execution_count": 107,
   "metadata": {
    "collapsed": true
   },
   "outputs": [],
   "source": [
    "q_min = Queue_of_stacks_with_min()"
   ]
  },
  {
   "cell_type": "code",
   "execution_count": 108,
   "metadata": {
    "collapsed": true
   },
   "outputs": [],
   "source": [
    "q_min.enq(4)\n",
    "q_min.enq(5)\n",
    "q_min.deq()"
   ]
  },
  {
   "cell_type": "code",
   "execution_count": 109,
   "metadata": {},
   "outputs": [
    {
     "data": {
      "text/plain": [
       "5"
      ]
     },
     "execution_count": 109,
     "metadata": {},
     "output_type": "execute_result"
    }
   ],
   "source": [
    "q_min.minimum()"
   ]
  },
  {
   "cell_type": "code",
   "execution_count": null,
   "metadata": {
    "collapsed": true
   },
   "outputs": [],
   "source": []
  }
 ],
 "metadata": {
  "kernelspec": {
   "display_name": "Python 3",
   "language": "python",
   "name": "python3"
  },
  "language_info": {
   "codemirror_mode": {
    "name": "ipython",
    "version": 3
   },
   "file_extension": ".py",
   "mimetype": "text/x-python",
   "name": "python",
   "nbconvert_exporter": "python",
   "pygments_lexer": "ipython3",
   "version": "3.6.2"
  }
 },
 "nbformat": 4,
 "nbformat_minor": 2
}

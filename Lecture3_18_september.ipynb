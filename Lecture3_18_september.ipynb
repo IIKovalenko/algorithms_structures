{
 "cells": [
  {
   "cell_type": "markdown",
   "metadata": {},
   "source": [
    "### Фиббоначи"
   ]
  },
  {
   "cell_type": "code",
   "execution_count": 10,
   "metadata": {
    "collapsed": true
   },
   "outputs": [],
   "source": [
    "def fibonachi(n):\n",
    "    an_2 = 0\n",
    "    an_1 = 1\n",
    "    for i in range(n-1):\n",
    "        an_2, an_1 = an_1, an_2+an_1\n",
    "    return an_1"
   ]
  },
  {
   "cell_type": "code",
   "execution_count": 28,
   "metadata": {
    "collapsed": true
   },
   "outputs": [],
   "source": [
    "def fibonachi_rec(n):\n",
    "    if n<=2:\n",
    "        return 1\n",
    "    return fibonachi_rec(n-1) + fibonachi_rec(n-2)"
   ]
  },
  {
   "cell_type": "code",
   "execution_count": 68,
   "metadata": {},
   "outputs": [
    {
     "data": {
      "text/plain": [
       "832040"
      ]
     },
     "execution_count": 68,
     "metadata": {},
     "output_type": "execute_result"
    }
   ],
   "source": [
    "#очень быстро за О(n)\n",
    "fibonachi(30)\n",
    "#очень долго за O(2^n)\n",
    "fibonachi_rec(30)"
   ]
  },
  {
   "cell_type": "markdown",
   "metadata": {},
   "source": [
    "### Кузнечик (один или два прыжка вперед)"
   ]
  },
  {
   "cell_type": "code",
   "execution_count": 143,
   "metadata": {},
   "outputs": [],
   "source": [
    "def grasshopper(n):\n",
    "    '''n>1'''\n",
    "    arr = [0]*(n+1)\n",
    "    arr[0] = 1\n",
    "    arr[1] = 1\n",
    "    for i in range(2, n+1):\n",
    "        arr[i] = arr[i-1] + arr[i-2]\n",
    "    return arr[-1]"
   ]
  },
  {
   "cell_type": "code",
   "execution_count": 147,
   "metadata": {},
   "outputs": [
    {
     "data": {
      "text/plain": [
       "1597"
      ]
     },
     "execution_count": 147,
     "metadata": {},
     "output_type": "execute_result"
    }
   ],
   "source": [
    "grasshopper(16)"
   ]
  },
  {
   "cell_type": "code",
   "execution_count": null,
   "metadata": {
    "collapsed": true
   },
   "outputs": [],
   "source": []
  }
 ],
 "metadata": {
  "kernelspec": {
   "display_name": "Python 3",
   "language": "python",
   "name": "python3"
  },
  "language_info": {
   "codemirror_mode": {
    "name": "ipython",
    "version": 3
   },
   "file_extension": ".py",
   "mimetype": "text/x-python",
   "name": "python",
   "nbconvert_exporter": "python",
   "pygments_lexer": "ipython3",
   "version": "3.6.2"
  }
 },
 "nbformat": 4,
 "nbformat_minor": 2
}

{
 "cells": [
  {
   "cell_type": "code",
   "execution_count": 92,
   "metadata": {},
   "outputs": [],
   "source": [
    "with open('distance.in') as f:\n",
    "    data = f.read().split('\\n')[:-1]\n",
    "    n, m = [int(x) for x in data.pop(0).split(' ')]\n",
    "    s, f = [int(x) for x in data.pop(0).split(' ')]\n",
    "    graph = [{} for x in range(n+1)]\n",
    "    for e in data:\n",
    "        v1, v2, dist = [int(x) for x in e.split(' ')]\n",
    "        graph[v1][v2] = dist\n",
    "        graph[v2][v1] = dist"
   ]
  },
  {
   "cell_type": "code",
   "execution_count": 93,
   "metadata": {
    "collapsed": true
   },
   "outputs": [],
   "source": [
    "def get_min(d, visited):\n",
    "    idx = 0\n",
    "    for i in range(1, n+1):\n",
    "        if d[i] < d[idx] and i not in visited:\n",
    "            idx = i\n",
    "    return idx"
   ]
  },
  {
   "cell_type": "code",
   "execution_count": 94,
   "metadata": {},
   "outputs": [],
   "source": [
    "def dijkstra(graph, s, f):\n",
    "    d = [float('inf') for x in range(n+1)]\n",
    "    d[s] = 0\n",
    "    visited = set()\n",
    "    pred = [0]*(n+1)\n",
    "    pred[s] = None\n",
    "    \n",
    "    current = s\n",
    "    while d[current] < float('inf'):\n",
    "        for v in range(1, n+1):\n",
    "            minimum = get_min(d, visited)\n",
    "            current = minimum\n",
    "        \n",
    "            visited.add(current)\n",
    "\n",
    "            for v in graph[current].keys():\n",
    "                    dist = d[current] + graph[current][v]\n",
    "                    if dist < d[v]:\n",
    "                        d[v] = dist\n",
    "                        pred[v] = current\n",
    "    \n",
    "    if d[f] < float('inf'):\n",
    "        path = []\n",
    "        vi = f\n",
    "        while vi is not None:\n",
    "            path.append(vi)\n",
    "            vi = pred[vi]\n",
    "        path.reverse()\n",
    "        answer = str(d[f]) + '\\n' + ' '.join([str(x) for x in path if x is not None])\n",
    "    else:\n",
    "        answer = '-1'\n",
    "    \n",
    "    \n",
    "    return answer"
   ]
  },
  {
   "cell_type": "code",
   "execution_count": 95,
   "metadata": {},
   "outputs": [],
   "source": [
    "answer = dijkstra(graph, s, f)"
   ]
  },
  {
   "cell_type": "code",
   "execution_count": 96,
   "metadata": {},
   "outputs": [],
   "source": [
    "with open('distance.out', 'w') as f:\n",
    "    f.write(answer)"
   ]
  }
 ],
 "metadata": {
  "kernelspec": {
   "display_name": "Python 3",
   "language": "python",
   "name": "python3"
  },
  "language_info": {
   "codemirror_mode": {
    "name": "ipython",
    "version": 3
   },
   "file_extension": ".py",
   "mimetype": "text/x-python",
   "name": "python",
   "nbconvert_exporter": "python",
   "pygments_lexer": "ipython3",
   "version": "3.6.2"
  }
 },
 "nbformat": 4,
 "nbformat_minor": 2
}

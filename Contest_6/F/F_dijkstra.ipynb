{
 "cells": [
  {
   "cell_type": "code",
   "execution_count": 7,
   "metadata": {
    "collapsed": true
   },
   "outputs": [],
   "source": [
    "with open('dijkstra.in') as f:\n",
    "    data = f.read().split('\\n')[:-1]\n",
    "    N, s, f = [int(x) for x in data.pop(0).split(' ')]\n",
    "    graph = [{} for x in range(N+1)]\n",
    "    for idx, st in enumerate(data):\n",
    "        graph[idx+1] = {i+1:int(v) for i, v in enumerate(st.split(' ')) if int(v) != -1}"
   ]
  },
  {
   "cell_type": "code",
   "execution_count": 8,
   "metadata": {
    "collapsed": true
   },
   "outputs": [],
   "source": [
    "def get_min(d, visited):\n",
    "    idx = 0\n",
    "    for i in range(1, N+1):\n",
    "        if d[i] < d[idx] and i not in visited:\n",
    "            idx = i\n",
    "    return idx"
   ]
  },
  {
   "cell_type": "code",
   "execution_count": 9,
   "metadata": {
    "collapsed": true
   },
   "outputs": [],
   "source": [
    "def dijkstra(graph, s, f):\n",
    "    d = [float('inf') for x in range(N+1)]\n",
    "    d[s] = 0\n",
    "    visited = set()\n",
    "    \n",
    "    current = s\n",
    "    while d[current] < float('inf'):\n",
    "        for v in range(1, N+1):\n",
    "            minimum = get_min(d, visited)\n",
    "            current = minimum\n",
    "        \n",
    "            visited.add(current)\n",
    "\n",
    "            for v in graph[current].keys():\n",
    "                    dist = d[current] + graph[current][v]\n",
    "                    if dist < d[v]:\n",
    "                        d[v] = dist\n",
    "    \n",
    "    if d[f] < float('inf'):\n",
    "        answer = d[f]\n",
    "    else:\n",
    "        answer = -1\n",
    "    \n",
    "    return answer"
   ]
  },
  {
   "cell_type": "code",
   "execution_count": 10,
   "metadata": {
    "collapsed": true
   },
   "outputs": [],
   "source": [
    "answer = dijkstra(graph, s, f)"
   ]
  },
  {
   "cell_type": "code",
   "execution_count": 11,
   "metadata": {
    "collapsed": true
   },
   "outputs": [],
   "source": [
    "with open('dijkstra.out', 'w') as f:\n",
    "    f.write(str(answer))"
   ]
  }
 ],
 "metadata": {
  "kernelspec": {
   "display_name": "Python 3",
   "language": "python",
   "name": "python3"
  },
  "language_info": {
   "codemirror_mode": {
    "name": "ipython",
    "version": 3
   },
   "file_extension": ".py",
   "mimetype": "text/x-python",
   "name": "python",
   "nbconvert_exporter": "python",
   "pygments_lexer": "ipython3",
   "version": "3.6.2"
  }
 },
 "nbformat": 4,
 "nbformat_minor": 2
}

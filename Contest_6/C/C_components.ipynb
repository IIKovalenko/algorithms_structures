{
 "cells": [
  {
   "cell_type": "code",
   "execution_count": 33,
   "metadata": {
    "collapsed": true
   },
   "outputs": [],
   "source": [
    "with open('components.in') as f:\n",
    "    data = f.read().split('\\n')[:-1]\n",
    "    N = int(data.pop(0))\n",
    "    matrix = [[int(x) for x in string.split(' ')] for string in data]"
   ]
  },
  {
   "cell_type": "code",
   "execution_count": 27,
   "metadata": {
    "collapsed": true
   },
   "outputs": [],
   "source": [
    "def make_graph_from_matrix(matrix):\n",
    "    graph = [[] for i in range(N+1)]\n",
    "    for idx, s in enumerate(matrix):\n",
    "        for i, num in enumerate(s):\n",
    "            if num is 1:\n",
    "                graph[idx+1].append(i+1)\n",
    "    return graph"
   ]
  },
  {
   "cell_type": "code",
   "execution_count": 28,
   "metadata": {
    "collapsed": true
   },
   "outputs": [],
   "source": [
    "graph = make_graph_from_matrix(matrix)"
   ]
  },
  {
   "cell_type": "code",
   "execution_count": 29,
   "metadata": {
    "collapsed": true
   },
   "outputs": [],
   "source": [
    "def DFS(graph, start):\n",
    "    visited = set()\n",
    "    stack = [start]\n",
    "    visited.add(start)\n",
    "    while stack:\n",
    "        current = stack.pop()\n",
    "        for v in graph[current]:\n",
    "            if v not in visited:\n",
    "                visited.add(v)\n",
    "                stack.append(v)\n",
    "    return(visited)"
   ]
  },
  {
   "cell_type": "code",
   "execution_count": 30,
   "metadata": {
    "collapsed": true
   },
   "outputs": [],
   "source": [
    "all_vs = [x for x in range(1, N+1)]"
   ]
  },
  {
   "cell_type": "code",
   "execution_count": 31,
   "metadata": {},
   "outputs": [],
   "source": [
    "left = all_vs\n",
    "counter = 0\n",
    "while left:\n",
    "    visited = DFS(graph, list(left)[0])\n",
    "    counter += 1\n",
    "    left = set(left) - visited"
   ]
  },
  {
   "cell_type": "code",
   "execution_count": 34,
   "metadata": {},
   "outputs": [],
   "source": [
    "with open('components.out', 'w') as f:\n",
    "    f.write(str(counter))"
   ]
  }
 ],
 "metadata": {
  "kernelspec": {
   "display_name": "Python 3",
   "language": "python",
   "name": "python3"
  },
  "language_info": {
   "codemirror_mode": {
    "name": "ipython",
    "version": 3
   },
   "file_extension": ".py",
   "mimetype": "text/x-python",
   "name": "python",
   "nbconvert_exporter": "python",
   "pygments_lexer": "ipython3",
   "version": "3.6.2"
  }
 },
 "nbformat": 4,
 "nbformat_minor": 2
}

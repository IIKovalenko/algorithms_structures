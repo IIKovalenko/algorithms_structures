{
 "cells": [
  {
   "cell_type": "code",
   "execution_count": 140,
   "metadata": {
    "collapsed": true
   },
   "outputs": [],
   "source": [
    "import sys\n",
    "\n",
    "sys.setrecursionlimit(100500)"
   ]
  },
  {
   "cell_type": "code",
   "execution_count": 141,
   "metadata": {},
   "outputs": [],
   "source": [
    "with open('topsort.in') as f:\n",
    "    data = f.read().split('\\n')[:-1]\n",
    "    pairs = []\n",
    "    for pair in data:\n",
    "        pairs.append([int(x) for x in pair.split(' ')])\n",
    "    N, M = pairs.pop(0)"
   ]
  },
  {
   "cell_type": "code",
   "execution_count": 142,
   "metadata": {
    "collapsed": true
   },
   "outputs": [],
   "source": [
    "def get_graph(pairs):\n",
    "    graph = [[] for x in range(N+1)]\n",
    "    for pair in pairs:\n",
    "        graph[pair[0]].append(pair[1])\n",
    "        #graph[pair[1]].append(pair[0])\n",
    "    return graph"
   ]
  },
  {
   "cell_type": "code",
   "execution_count": 143,
   "metadata": {
    "collapsed": true
   },
   "outputs": [],
   "source": [
    "graph = get_graph(pairs)"
   ]
  },
  {
   "cell_type": "code",
   "execution_count": 144,
   "metadata": {
    "collapsed": true
   },
   "outputs": [],
   "source": [
    "def DFS(graph, s, color, arr):\n",
    "    color[s] = 1\n",
    "    for v in graph[s]:\n",
    "        if color[v] is 0:\n",
    "            DFS(graph, v, color, arr)\n",
    "        elif color[v] is 1:\n",
    "            arr.append(-1)\n",
    "    color[s] = 2\n",
    "    arr.append(s)"
   ]
  },
  {
   "cell_type": "code",
   "execution_count": 145,
   "metadata": {
    "collapsed": true
   },
   "outputs": [],
   "source": [
    "color = [0]*(N+1)\n",
    "arr = []\n",
    "all_vs = [x for x in range(1, N+1)]"
   ]
  },
  {
   "cell_type": "code",
   "execution_count": 146,
   "metadata": {},
   "outputs": [],
   "source": [
    "for v in all_vs:\n",
    "    if color[v] is 0:\n",
    "        DFS(graph, v, color, arr)"
   ]
  },
  {
   "cell_type": "code",
   "execution_count": 147,
   "metadata": {},
   "outputs": [],
   "source": [
    "if min(arr) is -1:\n",
    "    answer = str(-1)\n",
    "else:\n",
    "    arr.reverse()\n",
    "    answer = ' '.join([str(x) for x in arr])"
   ]
  },
  {
   "cell_type": "code",
   "execution_count": 148,
   "metadata": {},
   "outputs": [],
   "source": [
    "with open('topsort.out', 'w') as f:\n",
    "    f.write(answer)"
   ]
  }
 ],
 "metadata": {
  "kernelspec": {
   "display_name": "Python 3",
   "language": "python",
   "name": "python3"
  },
  "language_info": {
   "codemirror_mode": {
    "name": "ipython",
    "version": 3
   },
   "file_extension": ".py",
   "mimetype": "text/x-python",
   "name": "python",
   "nbconvert_exporter": "python",
   "pygments_lexer": "ipython3",
   "version": "3.6.2"
  }
 },
 "nbformat": 4,
 "nbformat_minor": 2
}

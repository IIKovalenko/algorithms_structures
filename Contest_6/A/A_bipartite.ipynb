{
 "cells": [
  {
   "cell_type": "code",
   "execution_count": 1,
   "metadata": {
    "collapsed": true
   },
   "outputs": [],
   "source": [
    "with open('bipartite.in') as f:\n",
    "    data = f.read().split('\\n')[:-1]\n",
    "    pairs = []\n",
    "    for pair in data:\n",
    "        pairs.append([int(x) for x in pair.split(' ')])\n",
    "    N, M = pairs.pop(0)"
   ]
  },
  {
   "cell_type": "code",
   "execution_count": 2,
   "metadata": {
    "collapsed": true
   },
   "outputs": [],
   "source": [
    "def get_graph(pairs):\n",
    "    graph = [[] for x in range(N+1)]\n",
    "    for pair in pairs:\n",
    "        graph[pair[0]].append(pair[1])\n",
    "        graph[pair[1]].append(pair[0])\n",
    "    return graph"
   ]
  },
  {
   "cell_type": "code",
   "execution_count": 3,
   "metadata": {
    "collapsed": true
   },
   "outputs": [],
   "source": [
    "all_vs = []\n",
    "for vs in pairs:\n",
    "    all_vs += vs\n",
    "all_vs = list(set(all_vs))"
   ]
  },
  {
   "cell_type": "code",
   "execution_count": 4,
   "metadata": {
    "collapsed": true
   },
   "outputs": [],
   "source": [
    "graph = get_graph(pairs)"
   ]
  },
  {
   "cell_type": "code",
   "execution_count": 5,
   "metadata": {
    "collapsed": true
   },
   "outputs": [],
   "source": [
    "def DFS(graph, start):\n",
    "    visited = set()\n",
    "    stack = [start]\n",
    "    color = [0]*(N+1)\n",
    "    color[start] = 1\n",
    "    visited.add(start)\n",
    "    while stack:\n",
    "        current = stack.pop()\n",
    "        for v in graph[current]:\n",
    "            if color[v] == color[current]:\n",
    "                return('NO', visited)\n",
    "            if v not in visited:\n",
    "                color[v] = -color[current]\n",
    "                stack.append(v)\n",
    "                visited.add(v)\n",
    "    return('YES', visited)"
   ]
  },
  {
   "cell_type": "code",
   "execution_count": 397,
   "metadata": {
    "collapsed": true,
    "scrolled": false
   },
   "outputs": [],
   "source": [
    "answers = []\n",
    "left = list(all_vs)\n",
    "while left:\n",
    "    dfs = DFS(graph, list(left)[0])\n",
    "    answers.append(dfs[0])\n",
    "    left = set(left) - dfs[1]\n",
    "answers = [answer == 'NO' for answer in answers]"
   ]
  },
  {
   "cell_type": "code",
   "execution_count": 398,
   "metadata": {
    "collapsed": true
   },
   "outputs": [],
   "source": [
    "if M is 0:\n",
    "    answer = 'YES'\n",
    "else:\n",
    "    if any(answers):\n",
    "        answer = 'NO'\n",
    "    else:\n",
    "        answer = 'YES'"
   ]
  },
  {
   "cell_type": "code",
   "execution_count": 399,
   "metadata": {
    "collapsed": true
   },
   "outputs": [],
   "source": [
    "with open('bipartite.out', 'w') as f:\n",
    "    f.write(answer)"
   ]
  }
 ],
 "metadata": {
  "kernelspec": {
   "display_name": "Python 3",
   "language": "python",
   "name": "python3"
  },
  "language_info": {
   "codemirror_mode": {
    "name": "ipython",
    "version": 3
   },
   "file_extension": ".py",
   "mimetype": "text/x-python",
   "name": "python",
   "nbconvert_exporter": "python",
   "pygments_lexer": "ipython3",
   "version": "3.6.2"
  }
 },
 "nbformat": 4,
 "nbformat_minor": 2
}

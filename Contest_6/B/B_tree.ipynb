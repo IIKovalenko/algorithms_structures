{
 "cells": [
  {
   "cell_type": "code",
   "execution_count": 217,
   "metadata": {
    "collapsed": true
   },
   "outputs": [],
   "source": [
    "with open('tree.in') as f:\n",
    "    data = f.read().split('\\n')[:-1]\n",
    "    N = int(data.pop(0))\n",
    "    matrix = [[int(x) for x in string.split(' ')] for string in data]"
   ]
  },
  {
   "cell_type": "code",
   "execution_count": 218,
   "metadata": {
    "collapsed": true
   },
   "outputs": [],
   "source": [
    "def make_graph_from_matrix(matrix):\n",
    "    graph = [[] for i in range(N+1)]\n",
    "    for idx, s in enumerate(matrix):\n",
    "        for i, num in enumerate(s):\n",
    "            if num is 1:\n",
    "                graph[idx+1].append(i+1)\n",
    "    return graph"
   ]
  },
  {
   "cell_type": "code",
   "execution_count": 219,
   "metadata": {},
   "outputs": [],
   "source": [
    "graph = make_graph_from_matrix(matrix)"
   ]
  },
  {
   "cell_type": "code",
   "execution_count": 220,
   "metadata": {
    "collapsed": true
   },
   "outputs": [],
   "source": [
    "def DFS(graph, start):\n",
    "    visited = set()\n",
    "    stack = [start]\n",
    "    color = [0]*(N+1)\n",
    "    visited.add(start)\n",
    "    while stack:\n",
    "        current = stack.pop()\n",
    "        color[current] = 'green'\n",
    "        for v in graph[current]:\n",
    "            if v not in visited:\n",
    "                visited.add(v)\n",
    "                color[v] = 'green'\n",
    "                stack.append(v)\n",
    "            else:\n",
    "                if color[v] is 'green':\n",
    "                    return('NO', visited)\n",
    "        color[current] = 'red'\n",
    "    return('YES', visited)"
   ]
  },
  {
   "cell_type": "code",
   "execution_count": 221,
   "metadata": {
    "collapsed": true
   },
   "outputs": [],
   "source": [
    "all_vs = [x for x in range(1, N+1)]"
   ]
  },
  {
   "cell_type": "code",
   "execution_count": 222,
   "metadata": {},
   "outputs": [],
   "source": [
    "res = DFS(graph, 1)\n",
    "if set(all_vs) - res[1]:\n",
    "    answer = 'NO'\n",
    "else:\n",
    "    answer = res[0]"
   ]
  },
  {
   "cell_type": "code",
   "execution_count": 223,
   "metadata": {
    "collapsed": true
   },
   "outputs": [],
   "source": [
    "with open('tree.out', 'w') as f:\n",
    "    f.write(answer)"
   ]
  }
 ],
 "metadata": {
  "kernelspec": {
   "display_name": "Python 3",
   "language": "python",
   "name": "python3"
  },
  "language_info": {
   "codemirror_mode": {
    "name": "ipython",
    "version": 3
   },
   "file_extension": ".py",
   "mimetype": "text/x-python",
   "name": "python",
   "nbconvert_exporter": "python",
   "pygments_lexer": "ipython3",
   "version": "3.6.2"
  }
 },
 "nbformat": 4,
 "nbformat_minor": 2
}

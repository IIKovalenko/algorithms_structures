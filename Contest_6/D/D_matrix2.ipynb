{
 "cells": [
  {
   "cell_type": "code",
   "execution_count": 1,
   "metadata": {
    "collapsed": true
   },
   "outputs": [],
   "source": [
    "class Stack:\n",
    "    \n",
    "    def __init__(self):\n",
    "        self.a = []\n",
    "    \n",
    "    def size(self):\n",
    "        return len(self.a)\n",
    "    \n",
    "    def is_empty(self):\n",
    "        return self.a == []\n",
    "    \n",
    "    def push(self, element):\n",
    "        self.a.append(element)\n",
    "    \n",
    "    def pop(self):\n",
    "        if not self.is_empty():\n",
    "            return self.a.pop()\n",
    "        else:\n",
    "            pass\n",
    "    \n",
    "    def peek(self):\n",
    "        if not self.is_empty():\n",
    "            return self.a[-1]\n",
    "        else: \n",
    "            pass"
   ]
  },
  {
   "cell_type": "code",
   "execution_count": 2,
   "metadata": {
    "collapsed": true
   },
   "outputs": [],
   "source": [
    "class Queue_of_stacks:\n",
    "    \n",
    "    def __init__(self):\n",
    "        self.left_stack = Stack()\n",
    "        self.right_stack = Stack()\n",
    "        \n",
    "    def enq(self, element):\n",
    "        self.left_stack.push(element)\n",
    "    \n",
    "    def deq(self):\n",
    "        if not self.right_stack.is_empty():\n",
    "            return self.right_stack.pop()\n",
    "        else:\n",
    "            while not self.left_stack.is_empty():\n",
    "                self.right_stack.push(self.left_stack.pop())\n",
    "            return self.right_stack.pop()\n",
    "    \n",
    "    def size(self):\n",
    "        return len(self.__call__())\n",
    "    \n",
    "    def __call__(self):\n",
    "        queue = self.right_stack.a[::-1] + self.left_stack.a\n",
    "        return queue"
   ]
  },
  {
   "cell_type": "code",
   "execution_count": 3,
   "metadata": {
    "collapsed": true
   },
   "outputs": [],
   "source": [
    "with open('matrix2.in') as f:\n",
    "    data = f.read().split('\\n')[:-1]\n",
    "    pairs = []\n",
    "    for pair in data:\n",
    "        pairs.append([int(x) for x in pair.split(' ')])\n",
    "    N, M = pairs.pop(0)"
   ]
  },
  {
   "cell_type": "code",
   "execution_count": 4,
   "metadata": {
    "collapsed": true
   },
   "outputs": [],
   "source": [
    "def get_graph(pairs):\n",
    "    graph = [[] for x in range(N+1)]\n",
    "    for pair in pairs:\n",
    "        graph[pair[0]].append(pair[1])\n",
    "        graph[pair[1]].append(pair[0])\n",
    "    return graph"
   ]
  },
  {
   "cell_type": "code",
   "execution_count": 5,
   "metadata": {
    "collapsed": true
   },
   "outputs": [],
   "source": [
    "graph = get_graph(pairs)"
   ]
  },
  {
   "cell_type": "code",
   "execution_count": 6,
   "metadata": {},
   "outputs": [
    {
     "data": {
      "text/plain": [
       "'def BFS(graph, start, used):\\n    visited = set()\\n    queue = Queue_of_stacks()\\n    visited.add(start)\\n    used[start] = True\\n    queue.enq(start)\\n    while queue.size():\\n        current = queue.deq()\\n        for v in graph[current]:\\n            if v not in visited:\\n                visited.add(v)\\n                used[v] = True\\n                queue.enq(v)\\n    return visited'"
      ]
     },
     "execution_count": 6,
     "metadata": {},
     "output_type": "execute_result"
    }
   ],
   "source": [
    "'''def BFS(graph, start, used):\n",
    "    visited = set()\n",
    "    queue = Queue_of_stacks()\n",
    "    visited.add(start)\n",
    "    used[start] = True\n",
    "    queue.enq(start)\n",
    "    while queue.size():\n",
    "        current = queue.deq()\n",
    "        for v in graph[current]:\n",
    "            if v not in visited:\n",
    "                visited.add(v)\n",
    "                used[v] = True\n",
    "                queue.enq(v)\n",
    "    return visited'''"
   ]
  },
  {
   "cell_type": "code",
   "execution_count": 7,
   "metadata": {
    "collapsed": true
   },
   "outputs": [],
   "source": [
    "def DFS(graph, start, used):\n",
    "    visited = set()\n",
    "    stack = [start]\n",
    "    visited.add(start)\n",
    "    used[start] = True\n",
    "    while stack:\n",
    "        current = stack.pop()\n",
    "        for v in graph[current]:\n",
    "            if v not in visited:\n",
    "                visited.add(v)\n",
    "                used[v] = True\n",
    "                stack.append(v)\n",
    "    return(visited)"
   ]
  },
  {
   "cell_type": "code",
   "execution_count": 8,
   "metadata": {
    "collapsed": true
   },
   "outputs": [],
   "source": [
    "components = []\n",
    "counter = 0\n",
    "all_vs = [x for x in range(1, N+1)]\n",
    "used = [False]*(N+1)\n",
    "for v in all_vs:\n",
    "    if not used[v]:\n",
    "        comp = DFS(graph, v, used)\n",
    "        components.append(comp)\n",
    "        counter += 1"
   ]
  },
  {
   "cell_type": "code",
   "execution_count": 9,
   "metadata": {
    "collapsed": true
   },
   "outputs": [],
   "source": [
    "answer = ''\n",
    "answer += str(counter) + '\\n'\n",
    "for component in components:\n",
    "    answer += str(len(component)) + '\\n'\n",
    "    s = ''\n",
    "    for c in component:\n",
    "        s += str(c) + ' '\n",
    "    s = s[:-1]\n",
    "    answer += s + '\\n'\n",
    "answer = answer[:-1]"
   ]
  },
  {
   "cell_type": "code",
   "execution_count": 10,
   "metadata": {
    "collapsed": true
   },
   "outputs": [],
   "source": [
    "with open('matrix2.out', 'w') as f:\n",
    "    f.write(answer)"
   ]
  }
 ],
 "metadata": {
  "kernelspec": {
   "display_name": "Python 3",
   "language": "python",
   "name": "python3"
  },
  "language_info": {
   "codemirror_mode": {
    "name": "ipython",
    "version": 3
   },
   "file_extension": ".py",
   "mimetype": "text/x-python",
   "name": "python",
   "nbconvert_exporter": "python",
   "pygments_lexer": "ipython3",
   "version": "3.6.2"
  }
 },
 "nbformat": 4,
 "nbformat_minor": 2
}

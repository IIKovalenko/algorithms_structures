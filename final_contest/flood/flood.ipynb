{
 "cells": [
  {
   "cell_type": "code",
   "execution_count": 1,
   "metadata": {},
   "outputs": [],
   "source": [
    "with open('flood.in') as F:\n",
    "    data = F.read().split('\\n')[:-1]\n",
    "    A, B = [int(x) for x in data.pop(0).split(' ')]\n",
    "    graph = [[] for i in range(B+2)]\n",
    "    for st in data:\n",
    "        s, f, h = [int(x) for x in st.split(' ')] \n",
    "        graph[s].append((f, h))\n",
    "        graph[f].append((s, h))"
   ]
  },
  {
   "cell_type": "code",
   "execution_count": 35,
   "metadata": {},
   "outputs": [],
   "source": [
    "def DFS(graph, start, h):\n",
    "    visited = set()\n",
    "    stack = [start]\n",
    "    visited.add(start)\n",
    "    while stack:\n",
    "        current = stack.pop()\n",
    "        for v in graph[current]:\n",
    "            if (v[0] not in visited) and (v[1]>h):\n",
    "                visited.add(v[0])\n",
    "                stack.append(v[0])\n",
    "    return(len(visited))"
   ]
  },
  {
   "cell_type": "code",
   "execution_count": 39,
   "metadata": {},
   "outputs": [],
   "source": [
    "def binary_search(graph, A):\n",
    "    L = -1\n",
    "    R = 10**6\n",
    "    while L + 1 < R:\n",
    "        mid = (L + R)//2\n",
    "        if DFS(graph, 1, mid) < A:\n",
    "            R = mid\n",
    "        else:\n",
    "            L = mid\n",
    "    return R"
   ]
  },
  {
   "cell_type": "code",
   "execution_count": 41,
   "metadata": {
    "collapsed": true
   },
   "outputs": [],
   "source": [
    "answer = binary_search(graph, A)"
   ]
  },
  {
   "cell_type": "code",
   "execution_count": 43,
   "metadata": {},
   "outputs": [],
   "source": [
    "with open('flood.out', 'w') as F:\n",
    "    F.write(str(answer))"
   ]
  }
 ],
 "metadata": {
  "kernelspec": {
   "display_name": "Python 3",
   "language": "python",
   "name": "python3"
  },
  "language_info": {
   "codemirror_mode": {
    "name": "ipython",
    "version": 3
   },
   "file_extension": ".py",
   "mimetype": "text/x-python",
   "name": "python",
   "nbconvert_exporter": "python",
   "pygments_lexer": "ipython3",
   "version": "3.6.2"
  }
 },
 "nbformat": 4,
 "nbformat_minor": 2
}

{
 "cells": [
  {
   "cell_type": "code",
   "execution_count": 1,
   "metadata": {
    "collapsed": true
   },
   "outputs": [],
   "source": [
    "with open('holidays.in') as F:\n",
    "    data = F.read()\n",
    "    N, M, w = [int(x) for x in data.split(' ')]"
   ]
  },
  {
   "cell_type": "code",
   "execution_count": 11,
   "metadata": {
    "collapsed": true
   },
   "outputs": [],
   "source": [
    "def working_days(N, w, h):\n",
    "    days_left = N - (N//(w+h))*(w+h)\n",
    "    if days_left > w:\n",
    "        return (N//(w+h) + 1)*w\n",
    "    else:\n",
    "        return (N//(w+h))*w + days_left"
   ]
  },
  {
   "cell_type": "code",
   "execution_count": 15,
   "metadata": {
    "collapsed": true
   },
   "outputs": [],
   "source": [
    "def binary_search(N, M, w):\n",
    "    L = -1\n",
    "    R = 10**18\n",
    "    while L + 1 < R:\n",
    "        mid = (L + R)//2\n",
    "        if working_days(N, w, mid) >= M:\n",
    "            L = mid\n",
    "        else:\n",
    "            R = mid\n",
    "    return R"
   ]
  },
  {
   "cell_type": "code",
   "execution_count": 21,
   "metadata": {
    "collapsed": true
   },
   "outputs": [],
   "source": [
    "with open('holidays.out', 'w') as F:\n",
    "    F.write(str(binary_search(N, M, w)))"
   ]
  }
 ],
 "metadata": {
  "kernelspec": {
   "display_name": "Python 3",
   "language": "python",
   "name": "python3"
  },
  "language_info": {
   "codemirror_mode": {
    "name": "ipython",
    "version": 3
   },
   "file_extension": ".py",
   "mimetype": "text/x-python",
   "name": "python",
   "nbconvert_exporter": "python",
   "pygments_lexer": "ipython3",
   "version": "3.6.2"
  }
 },
 "nbformat": 4,
 "nbformat_minor": 2
}

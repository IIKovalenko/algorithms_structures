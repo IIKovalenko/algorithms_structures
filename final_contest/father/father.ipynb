{
 "cells": [
  {
   "cell_type": "code",
   "execution_count": 1,
   "metadata": {},
   "outputs": [],
   "source": [
    "with open('father.in') as F:\n",
    "    data = F.read().split('\\n')[:-1]\n",
    "    N = int(data[0])\n",
    "    arr = []\n",
    "    if N > 1:\n",
    "        arr = [int(x) for x in data[1].split(' ')]"
   ]
  },
  {
   "cell_type": "code",
   "execution_count": 2,
   "metadata": {},
   "outputs": [],
   "source": [
    "def make_orient_graph(N, arr):\n",
    "    graph = [[] for i in range(N+1)]\n",
    "    for idx, emp in enumerate(arr):\n",
    "        graph[emp].append(idx+2)\n",
    "    return graph"
   ]
  },
  {
   "cell_type": "code",
   "execution_count": 3,
   "metadata": {},
   "outputs": [],
   "source": [
    "graph = make_orient_graph(N, arr)"
   ]
  },
  {
   "cell_type": "code",
   "execution_count": 4,
   "metadata": {},
   "outputs": [
    {
     "data": {
      "text/plain": [
       "'def DFS(graph, start):\\n    visited = set()\\n    stack = [start]\\n    visited.add(start)\\n    while stack:\\n        current = stack.pop()\\n        for v in graph[current]:\\n            if v not in visited:\\n                visited.add(v)\\n                stack.append(v)\\n    return(len(visited))'"
      ]
     },
     "execution_count": 4,
     "metadata": {},
     "output_type": "execute_result"
    }
   ],
   "source": [
    "'''def DFS(graph, start):\n",
    "    visited = set()\n",
    "    stack = [start]\n",
    "    visited.add(start)\n",
    "    while stack:\n",
    "        current = stack.pop()\n",
    "        for v in graph[current]:\n",
    "            if v not in visited:\n",
    "                visited.add(v)\n",
    "                stack.append(v)\n",
    "    return(len(visited))'''"
   ]
  },
  {
   "cell_type": "code",
   "execution_count": 5,
   "metadata": {},
   "outputs": [],
   "source": [
    "#for i in range(1, N+1):\n",
    "#    print(DFS(graph, i)-1)"
   ]
  },
  {
   "cell_type": "code",
   "execution_count": 6,
   "metadata": {
    "collapsed": true
   },
   "outputs": [],
   "source": [
    "output = [0 for i in range(N+1)]\n",
    "def get_sum(emp, output):\n",
    "    summ = 0\n",
    "    for i in graph[emp]:\n",
    "        summ += get_sum(i, output) + 1\n",
    "    output[emp] = summ\n",
    "    return summ"
   ]
  },
  {
   "cell_type": "code",
   "execution_count": 7,
   "metadata": {
    "collapsed": true
   },
   "outputs": [],
   "source": [
    "import sys\n",
    "sys.setrecursionlimit(40000)"
   ]
  },
  {
   "cell_type": "code",
   "execution_count": 8,
   "metadata": {},
   "outputs": [
    {
     "data": {
      "text/plain": [
       "4"
      ]
     },
     "execution_count": 8,
     "metadata": {},
     "output_type": "execute_result"
    }
   ],
   "source": [
    "get_sum(1, output)"
   ]
  },
  {
   "cell_type": "code",
   "execution_count": 9,
   "metadata": {
    "collapsed": true
   },
   "outputs": [],
   "source": [
    "answer = ''\n",
    "for i in range(1, N+1):\n",
    "    answer += str(output[i]) + ' '"
   ]
  },
  {
   "cell_type": "code",
   "execution_count": 10,
   "metadata": {},
   "outputs": [],
   "source": [
    "answer = answer[:-1]"
   ]
  },
  {
   "cell_type": "code",
   "execution_count": 11,
   "metadata": {},
   "outputs": [],
   "source": [
    "with open('father.out', 'w') as F:\n",
    "    F.write(answer)"
   ]
  }
 ],
 "metadata": {
  "kernelspec": {
   "display_name": "Python 3",
   "language": "python",
   "name": "python3"
  },
  "language_info": {
   "codemirror_mode": {
    "name": "ipython",
    "version": 3
   },
   "file_extension": ".py",
   "mimetype": "text/x-python",
   "name": "python",
   "nbconvert_exporter": "python",
   "pygments_lexer": "ipython3",
   "version": "3.6.2"
  }
 },
 "nbformat": 4,
 "nbformat_minor": 2
}

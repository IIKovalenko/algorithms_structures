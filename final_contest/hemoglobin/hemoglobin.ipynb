{
 "cells": [
  {
   "cell_type": "code",
   "execution_count": 3,
   "metadata": {},
   "outputs": [
    {
     "name": "stdout",
     "output_type": "stream",
     "text": [
      "7\n"
     ]
    }
   ],
   "source": [
    "n = int(input())"
   ]
  },
  {
   "cell_type": "code",
   "execution_count": 4,
   "metadata": {
    "collapsed": true
   },
   "outputs": [],
   "source": [
    "stack = []\n",
    "sums = []"
   ]
  },
  {
   "cell_type": "code",
   "execution_count": 5,
   "metadata": {},
   "outputs": [
    {
     "name": "stdout",
     "output_type": "stream",
     "text": [
      "+1\n",
      "+2\n",
      "+3\n",
      "?2\n",
      "5\n",
      "-\n",
      "3\n",
      "-\n",
      "2\n",
      "?1\n",
      "1\n"
     ]
    }
   ],
   "source": [
    "sums.append(0)\n",
    "for i in range(n):\n",
    "    oper = input()\n",
    "    if oper[0] is '+':\n",
    "        x = int(oper[1:])\n",
    "        stack.append(x)\n",
    "        sums.append(sums[-1]+x)\n",
    "    elif oper[0] is '-':\n",
    "        sums.pop()\n",
    "        x = stack.pop()\n",
    "        print(x)\n",
    "    elif oper[0] is '?':\n",
    "        x = int(oper[1:])\n",
    "        sum_last = sums[-1] - sums[-(1+x)]\n",
    "        print(sum_last)"
   ]
  }
 ],
 "metadata": {
  "kernelspec": {
   "display_name": "Python 3",
   "language": "python",
   "name": "python3"
  },
  "language_info": {
   "codemirror_mode": {
    "name": "ipython",
    "version": 3
   },
   "file_extension": ".py",
   "mimetype": "text/x-python",
   "name": "python",
   "nbconvert_exporter": "python",
   "pygments_lexer": "ipython3",
   "version": "3.6.2"
  }
 },
 "nbformat": 4,
 "nbformat_minor": 2
}
